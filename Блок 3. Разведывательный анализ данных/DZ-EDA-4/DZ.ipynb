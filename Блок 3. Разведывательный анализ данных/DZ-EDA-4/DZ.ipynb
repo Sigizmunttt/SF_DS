{
 "cells": [
  {
   "cell_type": "markdown",
   "metadata": {},
   "source": [
    "# <center> ИССЛЕДОВАНИЕ ДАННЫХ HR-АГЕНТСТВА"
   ]
  },
  {
   "cell_type": "markdown",
   "metadata": {},
   "source": [
    "## Постановка задачи\n",
    "HR-агентство изучает тренды на рынке труда в IT. Компания хочет провести исследование на основе данных о зарплатах в сфере Data Science за 2020–2022 годы и получить некоторые выводы.\n",
    "Наша задача исследовать данные и сделать выводы по полученным результатам. Подкрепить свои рассуждения и выводы визуализациями и с помощью статистического тестирования проверить, являются ли выводы статистически значимыми.\n",
    "\n",
    "В процессе анализа мы должны ответить на ключевые вопросы HR-агентства:\n",
    "\n",
    "- Наблюдается ли ежегодный рост зарплат у специалистов Data Scientist?\n",
    "- Какие факторы влияют на зарплату у специалистов Data Scientist?\n",
    "- Как соотносятся зарплаты Data Scientist и Data Engineer в различных компаниях?\n",
    "- Есть ли связь между наличием должностей Data Scientist и Data Engineer и размером компании?\n",
    "- Если вы найдёте в данных интересные закономерности, также отметьте их в своём анализе.\n",
    "\n",
    "Продемонстрировать использование разных тестов для проверки статистической значимости сделанных выводов:\n",
    "\n",
    "- тесты для количественного признака:\n",
    "-- для одной выборки;\n",
    "-- для двух выборок;\n",
    "-- для нескольких выборок;\n",
    "- тест для категориальных признаков.\n",
    "\n",
    "Источник датасета: [\"“Data Science Job Salaries” (kaggle.com)](https://www.kaggle.com/datasets/ruchi798/data-science-job-salaries)\n"
   ]
  },
  {
   "cell_type": "markdown",
   "metadata": {},
   "source": [
    "## Загрузка данных"
   ]
  },
  {
   "cell_type": "code",
   "execution_count": 623,
   "metadata": {},
   "outputs": [],
   "source": [
    "# загружаем необходимые библиотеки\n",
    "import pandas as pd\n",
    "import numpy as np\n",
    "\n",
    "from scipy import stats\n",
    "import statsmodels.api as sm\n",
    "from statsmodels import stats as sms\n",
    "from statsmodels.stats.contingency_tables import mcnemar\n",
    "\n",
    "import matplotlib.pyplot as plt\n",
    "import seaborn as sns\n",
    "\n",
    "# делаем визуальную настройку графиков\n",
    "sns.set_theme(\"notebook\") \n",
    "sns.set_palette(\"Set2\")\n"
   ]
  },
  {
   "cell_type": "code",
   "execution_count": 624,
   "metadata": {},
   "outputs": [
    {
     "data": {
      "text/html": [
       "<div>\n",
       "<style scoped>\n",
       "    .dataframe tbody tr th:only-of-type {\n",
       "        vertical-align: middle;\n",
       "    }\n",
       "\n",
       "    .dataframe tbody tr th {\n",
       "        vertical-align: top;\n",
       "    }\n",
       "\n",
       "    .dataframe thead th {\n",
       "        text-align: right;\n",
       "    }\n",
       "</style>\n",
       "<table border=\"1\" class=\"dataframe\">\n",
       "  <thead>\n",
       "    <tr style=\"text-align: right;\">\n",
       "      <th></th>\n",
       "      <th>Unnamed: 0</th>\n",
       "      <th>work_year</th>\n",
       "      <th>experience_level</th>\n",
       "      <th>employment_type</th>\n",
       "      <th>job_title</th>\n",
       "      <th>salary</th>\n",
       "      <th>salary_currency</th>\n",
       "      <th>salary_in_usd</th>\n",
       "      <th>employee_residence</th>\n",
       "      <th>remote_ratio</th>\n",
       "      <th>company_location</th>\n",
       "      <th>company_size</th>\n",
       "    </tr>\n",
       "  </thead>\n",
       "  <tbody>\n",
       "    <tr>\n",
       "      <th>0</th>\n",
       "      <td>0</td>\n",
       "      <td>2020</td>\n",
       "      <td>MI</td>\n",
       "      <td>FT</td>\n",
       "      <td>Data Scientist</td>\n",
       "      <td>70000</td>\n",
       "      <td>EUR</td>\n",
       "      <td>79833</td>\n",
       "      <td>DE</td>\n",
       "      <td>0</td>\n",
       "      <td>DE</td>\n",
       "      <td>L</td>\n",
       "    </tr>\n",
       "    <tr>\n",
       "      <th>1</th>\n",
       "      <td>1</td>\n",
       "      <td>2020</td>\n",
       "      <td>SE</td>\n",
       "      <td>FT</td>\n",
       "      <td>Machine Learning Scientist</td>\n",
       "      <td>260000</td>\n",
       "      <td>USD</td>\n",
       "      <td>260000</td>\n",
       "      <td>JP</td>\n",
       "      <td>0</td>\n",
       "      <td>JP</td>\n",
       "      <td>S</td>\n",
       "    </tr>\n",
       "    <tr>\n",
       "      <th>2</th>\n",
       "      <td>2</td>\n",
       "      <td>2020</td>\n",
       "      <td>SE</td>\n",
       "      <td>FT</td>\n",
       "      <td>Big Data Engineer</td>\n",
       "      <td>85000</td>\n",
       "      <td>GBP</td>\n",
       "      <td>109024</td>\n",
       "      <td>GB</td>\n",
       "      <td>50</td>\n",
       "      <td>GB</td>\n",
       "      <td>M</td>\n",
       "    </tr>\n",
       "    <tr>\n",
       "      <th>3</th>\n",
       "      <td>3</td>\n",
       "      <td>2020</td>\n",
       "      <td>MI</td>\n",
       "      <td>FT</td>\n",
       "      <td>Product Data Analyst</td>\n",
       "      <td>20000</td>\n",
       "      <td>USD</td>\n",
       "      <td>20000</td>\n",
       "      <td>HN</td>\n",
       "      <td>0</td>\n",
       "      <td>HN</td>\n",
       "      <td>S</td>\n",
       "    </tr>\n",
       "    <tr>\n",
       "      <th>4</th>\n",
       "      <td>4</td>\n",
       "      <td>2020</td>\n",
       "      <td>SE</td>\n",
       "      <td>FT</td>\n",
       "      <td>Machine Learning Engineer</td>\n",
       "      <td>150000</td>\n",
       "      <td>USD</td>\n",
       "      <td>150000</td>\n",
       "      <td>US</td>\n",
       "      <td>50</td>\n",
       "      <td>US</td>\n",
       "      <td>L</td>\n",
       "    </tr>\n",
       "  </tbody>\n",
       "</table>\n",
       "</div>"
      ],
      "text/plain": [
       "   Unnamed: 0  work_year experience_level employment_type  \\\n",
       "0           0       2020               MI              FT   \n",
       "1           1       2020               SE              FT   \n",
       "2           2       2020               SE              FT   \n",
       "3           3       2020               MI              FT   \n",
       "4           4       2020               SE              FT   \n",
       "\n",
       "                    job_title  salary salary_currency  salary_in_usd  \\\n",
       "0              Data Scientist   70000             EUR          79833   \n",
       "1  Machine Learning Scientist  260000             USD         260000   \n",
       "2           Big Data Engineer   85000             GBP         109024   \n",
       "3        Product Data Analyst   20000             USD          20000   \n",
       "4   Machine Learning Engineer  150000             USD         150000   \n",
       "\n",
       "  employee_residence  remote_ratio company_location company_size  \n",
       "0                 DE             0               DE            L  \n",
       "1                 JP             0               JP            S  \n",
       "2                 GB            50               GB            M  \n",
       "3                 HN             0               HN            S  \n",
       "4                 US            50               US            L  "
      ]
     },
     "execution_count": 624,
     "metadata": {},
     "output_type": "execute_result"
    }
   ],
   "source": [
    "#загружаем датасет\n",
    "data = pd.read_csv('ds_salaries.csv')\n",
    "data.head()"
   ]
  },
  {
   "cell_type": "code",
   "execution_count": 625,
   "metadata": {},
   "outputs": [
    {
     "name": "stdout",
     "output_type": "stream",
     "text": [
      "Уровень значимости alpha = 0.05\n"
     ]
    }
   ],
   "source": [
    "# задаём уровень значимости\n",
    "alpha = 0.05 \n",
    "print(\"Уровень значимости alpha = {:.2f}\".format(alpha))"
   ]
  },
  {
   "cell_type": "markdown",
   "metadata": {},
   "source": [
    "## Описательный анализ данных"
   ]
  },
  {
   "cell_type": "code",
   "execution_count": 626,
   "metadata": {},
   "outputs": [
    {
     "name": "stdout",
     "output_type": "stream",
     "text": [
      "<class 'pandas.core.frame.DataFrame'>\n",
      "RangeIndex: 607 entries, 0 to 606\n",
      "Data columns (total 12 columns):\n",
      " #   Column              Non-Null Count  Dtype \n",
      "---  ------              --------------  ----- \n",
      " 0   Unnamed: 0          607 non-null    int64 \n",
      " 1   work_year           607 non-null    int64 \n",
      " 2   experience_level    607 non-null    object\n",
      " 3   employment_type     607 non-null    object\n",
      " 4   job_title           607 non-null    object\n",
      " 5   salary              607 non-null    int64 \n",
      " 6   salary_currency     607 non-null    object\n",
      " 7   salary_in_usd       607 non-null    int64 \n",
      " 8   employee_residence  607 non-null    object\n",
      " 9   remote_ratio        607 non-null    int64 \n",
      " 10  company_location    607 non-null    object\n",
      " 11  company_size        607 non-null    object\n",
      "dtypes: int64(5), object(7)\n",
      "memory usage: 57.0+ KB\n"
     ]
    }
   ],
   "source": [
    "data.info()"
   ]
  },
  {
   "cell_type": "markdown",
   "metadata": {},
   "source": [
    "В датасете 607 записей (без пропущенных значений)."
   ]
  },
  {
   "cell_type": "markdown",
   "metadata": {},
   "source": [
    "Проверим данные на наличие полных дубликатов:"
   ]
  },
  {
   "cell_type": "code",
   "execution_count": 627,
   "metadata": {},
   "outputs": [
    {
     "name": "stdout",
     "output_type": "stream",
     "text": [
      "Количество дубликатов: 0\n"
     ]
    }
   ],
   "source": [
    "print('Количество дубликатов: {}'.format(data[data.duplicated()].shape[0]))\n"
   ]
  },
  {
   "cell_type": "markdown",
   "metadata": {},
   "source": [
    "Проверим данные на наличие неинформативных признаков"
   ]
  },
  {
   "cell_type": "markdown",
   "metadata": {},
   "source": [
    "Признак \"Unnamed: 0\" повторяет индекс, поэтому его можно убрать. Признак \"salary\" отображает величину зарплаты в разных валютах, и, можно сказать, повторяет признак \"salary_in_usd\". Поэтому оставим признак \"salary_in_usd\" отображающий величину зарплаты в USD, а признаки \"salary\" и \"salary_currency\" удалим."
   ]
  },
  {
   "cell_type": "code",
   "execution_count": 628,
   "metadata": {},
   "outputs": [],
   "source": [
    "data = data.drop(['Unnamed: 0','salary','salary_currency'],axis=1)\n"
   ]
  },
  {
   "cell_type": "markdown",
   "metadata": {},
   "source": [
    "Общее распределение зарплат в USD в сфере Data Science за 2020–2022"
   ]
  },
  {
   "cell_type": "code",
   "execution_count": 629,
   "metadata": {},
   "outputs": [
    {
     "data": {
      "image/png": "[encoded data removed]",
      "text/plain": [
       "<Figure size 1800x576 with 2 Axes>"
      ]
     },
     "metadata": {},
     "output_type": "display_data"
    }
   ],
   "source": [
    "fig, axes = plt.subplots(1, 2, figsize=(25, 8))\n",
    "\n",
    "sns.histplot(data['salary_in_usd'], kde=True, ax=axes[0])\n",
    "axes[0].set(xlabel='Зарплата в USD', ylabel='Частота')\n",
    "axes[0].set_title('Распределение зарплат в USD в сфере Data Science за 2020–2022')\n",
    "axes[0].axvline(data['salary_in_usd'].mean(), color='red', linestyle='--', linewidth=0.8)\n",
    "\n",
    "sns.boxplot(data['salary_in_usd'], ax=axes[1], orient='h', medianprops={\"color\": \"red\", \"linestyle\": '--'})\n",
    "axes[1].set(ylabel='Зарплата в USD')\n",
    "axes[1].set_title('Распределение зарплат в USD в сфере Data Science за 2020–2022')\n",
    "\n",
    "plt.show()"
   ]
  },
  {
   "cell_type": "code",
   "execution_count": 630,
   "metadata": {},
   "outputs": [
    {
     "data": {
      "text/html": [
       "<div>\n",
       "<style scoped>\n",
       "    .dataframe tbody tr th:only-of-type {\n",
       "        vertical-align: middle;\n",
       "    }\n",
       "\n",
       "    .dataframe tbody tr th {\n",
       "        vertical-align: top;\n",
       "    }\n",
       "\n",
       "    .dataframe thead th {\n",
       "        text-align: right;\n",
       "    }\n",
       "</style>\n",
       "<table border=\"1\" class=\"dataframe\">\n",
       "  <thead>\n",
       "    <tr style=\"text-align: right;\">\n",
       "      <th></th>\n",
       "      <th>Зарплата в USD</th>\n",
       "    </tr>\n",
       "  </thead>\n",
       "  <tbody>\n",
       "    <tr>\n",
       "      <th>count</th>\n",
       "      <td>607.00</td>\n",
       "    </tr>\n",
       "    <tr>\n",
       "      <th>mean</th>\n",
       "      <td>112297.87</td>\n",
       "    </tr>\n",
       "    <tr>\n",
       "      <th>std</th>\n",
       "      <td>70957.26</td>\n",
       "    </tr>\n",
       "    <tr>\n",
       "      <th>min</th>\n",
       "      <td>2859.00</td>\n",
       "    </tr>\n",
       "    <tr>\n",
       "      <th>25%</th>\n",
       "      <td>62726.00</td>\n",
       "    </tr>\n",
       "    <tr>\n",
       "      <th>50%</th>\n",
       "      <td>101570.00</td>\n",
       "    </tr>\n",
       "    <tr>\n",
       "      <th>75%</th>\n",
       "      <td>150000.00</td>\n",
       "    </tr>\n",
       "    <tr>\n",
       "      <th>max</th>\n",
       "      <td>600000.00</td>\n",
       "    </tr>\n",
       "  </tbody>\n",
       "</table>\n",
       "</div>"
      ],
      "text/plain": [
       "       Зарплата в USD\n",
       "count          607.00\n",
       "mean        112297.87\n",
       "std          70957.26\n",
       "min           2859.00\n",
       "25%          62726.00\n",
       "50%         101570.00\n",
       "75%         150000.00\n",
       "max         600000.00"
      ]
     },
     "execution_count": 630,
     "metadata": {},
     "output_type": "execute_result"
    }
   ],
   "source": [
    "data_agg = data['salary_in_usd'].describe().round(2).to_frame()\n",
    "data_agg.columns = ['Зарплата в USD']\n",
    "data_agg"
   ]
  },
  {
   "cell_type": "markdown",
   "metadata": {},
   "source": [
    "Распеределение зарплат в USD отлично от нормального, имеются выбросы."
   ]
  },
  {
   "cell_type": "markdown",
   "metadata": {},
   "source": [
    "### Распределение зарплат для специалистов Data Sicentist"
   ]
  },
  {
   "cell_type": "code",
   "execution_count": 631,
   "metadata": {},
   "outputs": [
    {
     "data": {
      "image/png": "[encoded data removed]",
      "text/plain": [
       "<Figure size 1800x576 with 2 Axes>"
      ]
     },
     "metadata": {},
     "output_type": "display_data"
    }
   ],
   "source": [
    "fig, axes = plt.subplots(1, 2, figsize=(25, 8))\n",
    "\n",
    "sns.histplot(data[data['job_title']=='Data Scientist']['salary_in_usd'], kde=True, ax=axes[0])\n",
    "axes[0].set(xlabel='Зарплата в USD', ylabel='Частота')\n",
    "axes[0].set_title('Распределение зарплат в USD в сфере Data Science за 2020–2022')\n",
    "axes[0].axvline(data['salary_in_usd'].mean(), color='red', linestyle='--', linewidth=0.8)\n",
    "\n",
    "sns.boxplot(data['salary_in_usd'], ax=axes[1], orient='h', medianprops={\"color\": \"red\", \"linestyle\": '--'})\n",
    "axes[1].set(ylabel='Зарплата в USD')\n",
    "axes[1].set_title('Распределение зарплат в USD в сфере Data Science за 2020–2022')\n",
    "\n",
    "plt.show()"
   ]
  },
  {
   "cell_type": "code",
   "execution_count": 632,
   "metadata": {},
   "outputs": [
    {
     "data": {
      "text/html": [
       "<div>\n",
       "<style scoped>\n",
       "    .dataframe tbody tr th:only-of-type {\n",
       "        vertical-align: middle;\n",
       "    }\n",
       "\n",
       "    .dataframe tbody tr th {\n",
       "        vertical-align: top;\n",
       "    }\n",
       "\n",
       "    .dataframe thead th {\n",
       "        text-align: right;\n",
       "    }\n",
       "</style>\n",
       "<table border=\"1\" class=\"dataframe\">\n",
       "  <thead>\n",
       "    <tr style=\"text-align: right;\">\n",
       "      <th></th>\n",
       "      <th>Зарплата в USD</th>\n",
       "    </tr>\n",
       "  </thead>\n",
       "  <tbody>\n",
       "    <tr>\n",
       "      <th>count</th>\n",
       "      <td>143.00</td>\n",
       "    </tr>\n",
       "    <tr>\n",
       "      <th>mean</th>\n",
       "      <td>108187.83</td>\n",
       "    </tr>\n",
       "    <tr>\n",
       "      <th>std</th>\n",
       "      <td>64112.84</td>\n",
       "    </tr>\n",
       "    <tr>\n",
       "      <th>min</th>\n",
       "      <td>2859.00</td>\n",
       "    </tr>\n",
       "    <tr>\n",
       "      <th>25%</th>\n",
       "      <td>54724.00</td>\n",
       "    </tr>\n",
       "    <tr>\n",
       "      <th>50%</th>\n",
       "      <td>103691.00</td>\n",
       "    </tr>\n",
       "    <tr>\n",
       "      <th>75%</th>\n",
       "      <td>140850.00</td>\n",
       "    </tr>\n",
       "    <tr>\n",
       "      <th>max</th>\n",
       "      <td>412000.00</td>\n",
       "    </tr>\n",
       "  </tbody>\n",
       "</table>\n",
       "</div>"
      ],
      "text/plain": [
       "       Зарплата в USD\n",
       "count          143.00\n",
       "mean        108187.83\n",
       "std          64112.84\n",
       "min           2859.00\n",
       "25%          54724.00\n",
       "50%         103691.00\n",
       "75%         140850.00\n",
       "max         412000.00"
      ]
     },
     "execution_count": 632,
     "metadata": {},
     "output_type": "execute_result"
    }
   ],
   "source": [
    "data_agg = data[data['job_title']=='Data Scientist']['salary_in_usd'].describe().round(2).to_frame()\n",
    "data_agg.columns = ['Зарплата в USD']\n",
    "data_agg"
   ]
  },
  {
   "cell_type": "markdown",
   "metadata": {},
   "source": [
    "Распеределение зарплат для специалистов Data Scientist отлично от нормального, имеются выбросы."
   ]
  },
  {
   "cell_type": "markdown",
   "metadata": {},
   "source": [
    "### Зарплата в USD в зависимости от года"
   ]
  },
  {
   "cell_type": "code",
   "execution_count": 633,
   "metadata": {},
   "outputs": [
    {
     "data": {
      "image/png": "[encoded data removed]",
      "text/plain": [
       "<Figure size 864x504 with 1 Axes>"
      ]
     },
     "metadata": {},
     "output_type": "display_data"
    }
   ],
   "source": [
    "plt.figure(figsize=(12, 7))\n",
    "ax = sns.boxplot(data[data['job_title']=='Data Scientist'], x='salary_in_usd', y='work_year', orient='h', medianprops={\"color\": \"red\", \"linestyle\": '--'})\n",
    "ax.set(xlabel='Зарплата в USD', ylabel='Год')\n",
    "plt.title('Зарплата у Data Scientist зависимости от года')\n",
    "plt.show()"
   ]
  },
  {
   "cell_type": "code",
   "execution_count": 634,
   "metadata": {},
   "outputs": [
    {
     "name": "stdout",
     "output_type": "stream",
     "text": [
      "Зарплата в USD в зависимости от года\n"
     ]
    },
    {
     "data": {
      "text/html": [
       "<div>\n",
       "<style scoped>\n",
       "    .dataframe tbody tr th:only-of-type {\n",
       "        vertical-align: middle;\n",
       "    }\n",
       "\n",
       "    .dataframe tbody tr th {\n",
       "        vertical-align: top;\n",
       "    }\n",
       "\n",
       "    .dataframe thead th {\n",
       "        text-align: right;\n",
       "    }\n",
       "</style>\n",
       "<table border=\"1\" class=\"dataframe\">\n",
       "  <thead>\n",
       "    <tr style=\"text-align: right;\">\n",
       "      <th></th>\n",
       "      <th>count</th>\n",
       "      <th>mean</th>\n",
       "      <th>std</th>\n",
       "      <th>min</th>\n",
       "      <th>25%</th>\n",
       "      <th>50%</th>\n",
       "      <th>75%</th>\n",
       "      <th>max</th>\n",
       "    </tr>\n",
       "    <tr>\n",
       "      <th>work_year</th>\n",
       "      <th></th>\n",
       "      <th></th>\n",
       "      <th></th>\n",
       "      <th></th>\n",
       "      <th></th>\n",
       "      <th></th>\n",
       "      <th></th>\n",
       "      <th></th>\n",
       "    </tr>\n",
       "  </thead>\n",
       "  <tbody>\n",
       "    <tr>\n",
       "      <th>2020</th>\n",
       "      <td>21.0</td>\n",
       "      <td>85970.523810</td>\n",
       "      <td>81436.648711</td>\n",
       "      <td>21669.0</td>\n",
       "      <td>42197.0</td>\n",
       "      <td>62726.0</td>\n",
       "      <td>105000.0</td>\n",
       "      <td>412000.0</td>\n",
       "    </tr>\n",
       "    <tr>\n",
       "      <th>2021</th>\n",
       "      <td>45.0</td>\n",
       "      <td>70671.733333</td>\n",
       "      <td>45422.967568</td>\n",
       "      <td>2859.0</td>\n",
       "      <td>33808.0</td>\n",
       "      <td>73000.0</td>\n",
       "      <td>100000.0</td>\n",
       "      <td>165000.0</td>\n",
       "    </tr>\n",
       "    <tr>\n",
       "      <th>2022</th>\n",
       "      <td>77.0</td>\n",
       "      <td>136172.090909</td>\n",
       "      <td>54563.084740</td>\n",
       "      <td>18442.0</td>\n",
       "      <td>100000.0</td>\n",
       "      <td>140000.0</td>\n",
       "      <td>176000.0</td>\n",
       "      <td>260000.0</td>\n",
       "    </tr>\n",
       "  </tbody>\n",
       "</table>\n",
       "</div>"
      ],
      "text/plain": [
       "           count           mean           std      min       25%       50%  \\\n",
       "work_year                                                                    \n",
       "2020        21.0   85970.523810  81436.648711  21669.0   42197.0   62726.0   \n",
       "2021        45.0   70671.733333  45422.967568   2859.0   33808.0   73000.0   \n",
       "2022        77.0  136172.090909  54563.084740  18442.0  100000.0  140000.0   \n",
       "\n",
       "                75%       max  \n",
       "work_year                      \n",
       "2020       105000.0  412000.0  \n",
       "2021       100000.0  165000.0  \n",
       "2022       176000.0  260000.0  "
      ]
     },
     "execution_count": 634,
     "metadata": {},
     "output_type": "execute_result"
    }
   ],
   "source": [
    "data_agg = data[data['job_title']=='Data Scientist'].groupby('work_year')['salary_in_usd'].describe()\n",
    "print('Зарплата в USD в зависимости от года')\n",
    "data_agg"
   ]
  },
  {
   "cell_type": "markdown",
   "metadata": {},
   "source": [
    "Из полученных данных видно, что медианная зарплата с каждым годом повышается. Особенно видно различие между 2021 и 2022 годом. Так же видно, что количество вакансий с каждым годом существенно увеличивается. Чтобы определить, являются ли эти различия статистически значимыми, в следующем разделе мы проведём статистические тесты."
   ]
  },
  {
   "cell_type": "markdown",
   "metadata": {},
   "source": [
    "### Факторы влияющие на зарплату у специалистов Data Scientist"
   ]
  },
  {
   "cell_type": "code",
   "execution_count": 635,
   "metadata": {},
   "outputs": [
    {
     "data": {
      "image/png": "[encoded data removed]",
      "text/plain": [
       "<Figure size 1728x2880 with 6 Axes>"
      ]
     },
     "metadata": {},
     "output_type": "display_data"
    }
   ],
   "source": [
    "fig, axes = plt.subplots(3, 2, figsize=(24, 40))\n",
    "\n",
    "sns.boxplot(data[data['job_title']=='Data Scientist'], x='salary_in_usd', y='experience_level',  ax=axes[0, 0], orient='h', medianprops={\"color\": \"red\", \"linestyle\": '--'},order=['EN', 'MI', 'SE', 'EX'])\n",
    "axes[0, 0].set(xlabel='Зарплата в USD', ylabel='Уровень опыта')\n",
    "axes[0, 0].set_title('Распределение зарплат в USD по уровню опыта')\n",
    "\n",
    "\n",
    "sns.boxplot(data[data['job_title']=='Data Scientist'], x='salary_in_usd', y='employment_type', ax=axes[0, 1], orient='h', medianprops={\"color\": \"red\", \"linestyle\": '--'},order=['PT', 'FT', 'CT', 'FL'])\n",
    "axes[0, 1].set(xlabel='Зарплата в USD', ylabel='Тип трудоустройства')\n",
    "axes[0, 1].set_title('Распределение зарплат в USD по типу трудоустройства')\n",
    "\n",
    "\n",
    "sns.boxplot(data[data['job_title']=='Data Scientist'], x='salary_in_usd', y='company_location', ax=axes[1, 0], orient='h', medianprops={\"color\": \"red\", \"linestyle\": '--'}, order=sorted(data['company_location'].unique()))\n",
    "axes[1, 0].set(xlabel='Зарплата в USD', ylabel='Страна главного офиса работодателя')\n",
    "axes[1, 0].set_title('Распределение зарплат в USD по расположению страны главного офиса работодателя')\n",
    "\n",
    "sns.boxplot(data[data['job_title']=='Data Scientist'], x='salary_in_usd', y='employee_residence', ax=axes[1, 1], orient='h', medianprops={\"color\": \"red\", \"linestyle\": '--'}, order=sorted(data['employee_residence'].unique()))\n",
    "axes[1, 1].set(xlabel='Зарплата в USD', ylabel='Страна главного офиса работодателя')\n",
    "axes[1, 1].set_title('Распределение зарплат в USD по стране проживания сотрудника')\n",
    "\n",
    "sns.boxplot(data[data['job_title']=='Data Scientist'], x='salary_in_usd', y='company_size', ax=axes[2, 0], orient='h', medianprops={\"color\": \"red\", \"linestyle\": '--'},order=['S', 'M', 'L'])\n",
    "axes[2, 0].set(xlabel='Зарплата в USD', ylabel='Среднее количество людей, работавших в компании в течение года')\n",
    "axes[2, 0].set_title('Распределение зарплат в USD по величине компании')\n",
    "\n",
    "sns.boxplot(data[data['job_title']=='Data Scientist'], x='salary_in_usd', y='remote_ratio', ax=axes[2, 1], orient='h', medianprops={\"color\": \"red\", \"linestyle\": '--'})\n",
    "axes[2, 1].set(xlabel='Зарплата в USD', ylabel='Общий объём работы, выполняемой удалённо,%')\n",
    "axes[2, 1].set_title('Распределение зарплат в USD по общему объёму работы, выполняемого удалённо')\n",
    "\n",
    "\n",
    "\n",
    "\n",
    "\n",
    "plt.show()\n"
   ]
  },
  {
   "cell_type": "code",
   "execution_count": 636,
   "metadata": {},
   "outputs": [
    {
     "name": "stdout",
     "output_type": "stream",
     "text": [
      "Зарплата в USD  зависимости от уровня опыта\n"
     ]
    },
    {
     "data": {
      "text/html": [
       "<div>\n",
       "<style scoped>\n",
       "    .dataframe tbody tr th:only-of-type {\n",
       "        vertical-align: middle;\n",
       "    }\n",
       "\n",
       "    .dataframe tbody tr th {\n",
       "        vertical-align: top;\n",
       "    }\n",
       "\n",
       "    .dataframe thead th {\n",
       "        text-align: right;\n",
       "    }\n",
       "</style>\n",
       "<table border=\"1\" class=\"dataframe\">\n",
       "  <thead>\n",
       "    <tr style=\"text-align: right;\">\n",
       "      <th></th>\n",
       "      <th>count</th>\n",
       "      <th>mean</th>\n",
       "      <th>std</th>\n",
       "      <th>min</th>\n",
       "      <th>25%</th>\n",
       "      <th>50%</th>\n",
       "      <th>75%</th>\n",
       "      <th>max</th>\n",
       "    </tr>\n",
       "    <tr>\n",
       "      <th>experience_level</th>\n",
       "      <th></th>\n",
       "      <th></th>\n",
       "      <th></th>\n",
       "      <th></th>\n",
       "      <th></th>\n",
       "      <th></th>\n",
       "      <th></th>\n",
       "      <th></th>\n",
       "    </tr>\n",
       "  </thead>\n",
       "  <tbody>\n",
       "    <tr>\n",
       "      <th>EN</th>\n",
       "      <td>22.0</td>\n",
       "      <td>55330.909091</td>\n",
       "      <td>31237.823453</td>\n",
       "      <td>4000.0</td>\n",
       "      <td>31474.0</td>\n",
       "      <td>50483.5</td>\n",
       "      <td>85027.25</td>\n",
       "      <td>105000.0</td>\n",
       "    </tr>\n",
       "    <tr>\n",
       "      <th>MI</th>\n",
       "      <td>60.0</td>\n",
       "      <td>82039.133333</td>\n",
       "      <td>46869.579661</td>\n",
       "      <td>2859.0</td>\n",
       "      <td>41768.0</td>\n",
       "      <td>77479.0</td>\n",
       "      <td>118264.75</td>\n",
       "      <td>200000.0</td>\n",
       "    </tr>\n",
       "    <tr>\n",
       "      <th>SE</th>\n",
       "      <td>61.0</td>\n",
       "      <td>152971.016393</td>\n",
       "      <td>58985.402166</td>\n",
       "      <td>20171.0</td>\n",
       "      <td>120000.0</td>\n",
       "      <td>140400.0</td>\n",
       "      <td>180000.00</td>\n",
       "      <td>412000.0</td>\n",
       "    </tr>\n",
       "    <tr>\n",
       "      <th>EX</th>\n",
       "      <td>NaN</td>\n",
       "      <td>NaN</td>\n",
       "      <td>NaN</td>\n",
       "      <td>NaN</td>\n",
       "      <td>NaN</td>\n",
       "      <td>NaN</td>\n",
       "      <td>NaN</td>\n",
       "      <td>NaN</td>\n",
       "    </tr>\n",
       "  </tbody>\n",
       "</table>\n",
       "</div>"
      ],
      "text/plain": [
       "                  count           mean           std      min       25%  \\\n",
       "experience_level                                                          \n",
       "EN                 22.0   55330.909091  31237.823453   4000.0   31474.0   \n",
       "MI                 60.0   82039.133333  46869.579661   2859.0   41768.0   \n",
       "SE                 61.0  152971.016393  58985.402166  20171.0  120000.0   \n",
       "EX                  NaN            NaN           NaN      NaN       NaN   \n",
       "\n",
       "                       50%        75%       max  \n",
       "experience_level                                 \n",
       "EN                 50483.5   85027.25  105000.0  \n",
       "MI                 77479.0  118264.75  200000.0  \n",
       "SE                140400.0  180000.00  412000.0  \n",
       "EX                     NaN        NaN       NaN  "
      ]
     },
     "execution_count": 636,
     "metadata": {},
     "output_type": "execute_result"
    }
   ],
   "source": [
    "custom_order = ['EN', 'MI', 'SE', 'EX']\n",
    "\n",
    "# Группируем данные и выводим их в произвольном порядке\n",
    "data_agg = data[data['job_title']=='Data Scientist'].groupby('experience_level')['salary_in_usd'].describe()\n",
    "data_agg = data_agg.reindex(custom_order)\n",
    "\n",
    "# Выводим результат\n",
    "print('Зарплата в USD  зависимости от уровня опыта')\n",
    "data_agg"
   ]
  },
  {
   "cell_type": "markdown",
   "metadata": {},
   "source": [
    "Чем выше уровень опыта, тем выше ЗП. Уровень опыта влияет на зарплату у специалистов Data Scientist."
   ]
  },
  {
   "cell_type": "code",
   "execution_count": 637,
   "metadata": {},
   "outputs": [
    {
     "name": "stdout",
     "output_type": "stream",
     "text": [
      "Зарплата в USD  зависимости от типа трудоустройства\n"
     ]
    },
    {
     "data": {
      "text/html": [
       "<div>\n",
       "<style scoped>\n",
       "    .dataframe tbody tr th:only-of-type {\n",
       "        vertical-align: middle;\n",
       "    }\n",
       "\n",
       "    .dataframe tbody tr th {\n",
       "        vertical-align: top;\n",
       "    }\n",
       "\n",
       "    .dataframe thead th {\n",
       "        text-align: right;\n",
       "    }\n",
       "</style>\n",
       "<table border=\"1\" class=\"dataframe\">\n",
       "  <thead>\n",
       "    <tr style=\"text-align: right;\">\n",
       "      <th></th>\n",
       "      <th>count</th>\n",
       "      <th>mean</th>\n",
       "      <th>std</th>\n",
       "      <th>min</th>\n",
       "      <th>25%</th>\n",
       "      <th>50%</th>\n",
       "      <th>75%</th>\n",
       "      <th>max</th>\n",
       "    </tr>\n",
       "    <tr>\n",
       "      <th>employment_type</th>\n",
       "      <th></th>\n",
       "      <th></th>\n",
       "      <th></th>\n",
       "      <th></th>\n",
       "      <th></th>\n",
       "      <th></th>\n",
       "      <th></th>\n",
       "      <th></th>\n",
       "    </tr>\n",
       "  </thead>\n",
       "  <tbody>\n",
       "    <tr>\n",
       "      <th>PT</th>\n",
       "      <td>2.0</td>\n",
       "      <td>60834.500000</td>\n",
       "      <td>55388.381277</td>\n",
       "      <td>21669.0</td>\n",
       "      <td>41251.75</td>\n",
       "      <td>60834.5</td>\n",
       "      <td>80417.25</td>\n",
       "      <td>100000.0</td>\n",
       "    </tr>\n",
       "    <tr>\n",
       "      <th>FT</th>\n",
       "      <td>140.0</td>\n",
       "      <td>108922.792857</td>\n",
       "      <td>64372.431676</td>\n",
       "      <td>2859.0</td>\n",
       "      <td>55490.00</td>\n",
       "      <td>104796.0</td>\n",
       "      <td>141975.00</td>\n",
       "      <td>412000.0</td>\n",
       "    </tr>\n",
       "    <tr>\n",
       "      <th>CT</th>\n",
       "      <td>NaN</td>\n",
       "      <td>NaN</td>\n",
       "      <td>NaN</td>\n",
       "      <td>NaN</td>\n",
       "      <td>NaN</td>\n",
       "      <td>NaN</td>\n",
       "      <td>NaN</td>\n",
       "      <td>NaN</td>\n",
       "    </tr>\n",
       "    <tr>\n",
       "      <th>FL</th>\n",
       "      <td>1.0</td>\n",
       "      <td>100000.000000</td>\n",
       "      <td>NaN</td>\n",
       "      <td>100000.0</td>\n",
       "      <td>100000.00</td>\n",
       "      <td>100000.0</td>\n",
       "      <td>100000.00</td>\n",
       "      <td>100000.0</td>\n",
       "    </tr>\n",
       "  </tbody>\n",
       "</table>\n",
       "</div>"
      ],
      "text/plain": [
       "                 count           mean           std       min        25%  \\\n",
       "employment_type                                                            \n",
       "PT                 2.0   60834.500000  55388.381277   21669.0   41251.75   \n",
       "FT               140.0  108922.792857  64372.431676    2859.0   55490.00   \n",
       "CT                 NaN            NaN           NaN       NaN        NaN   \n",
       "FL                 1.0  100000.000000           NaN  100000.0  100000.00   \n",
       "\n",
       "                      50%        75%       max  \n",
       "employment_type                                 \n",
       "PT                60834.5   80417.25  100000.0  \n",
       "FT               104796.0  141975.00  412000.0  \n",
       "CT                    NaN        NaN       NaN  \n",
       "FL               100000.0  100000.00  100000.0  "
      ]
     },
     "execution_count": 637,
     "metadata": {},
     "output_type": "execute_result"
    }
   ],
   "source": [
    "custom_order = ['PT', 'FT', 'CT', 'FL']\n",
    "\n",
    "# Группируем данные и выводим их в произвольном порядке\n",
    "data_agg = data[data['job_title']=='Data Scientist'].groupby('employment_type')['salary_in_usd'].describe()\n",
    "data_agg = data_agg.reindex(custom_order)\n",
    "\n",
    "# Выводим результат\n",
    "print('Зарплата в USD  зависимости от типа трудоустройства')\n",
    "data_agg"
   ]
  },
  {
   "cell_type": "markdown",
   "metadata": {},
   "source": [
    "Данных для анализа зарплаты относительно типа трудоуйстройства слишком мало, чтобы провести сравнение."
   ]
  },
  {
   "cell_type": "code",
   "execution_count": 638,
   "metadata": {},
   "outputs": [
    {
     "name": "stdout",
     "output_type": "stream",
     "text": [
      "Зарплата в USD в зависимости от страны главного офиса работодателя\n"
     ]
    },
    {
     "data": {
      "text/html": [
       "<div>\n",
       "<style scoped>\n",
       "    .dataframe tbody tr th:only-of-type {\n",
       "        vertical-align: middle;\n",
       "    }\n",
       "\n",
       "    .dataframe tbody tr th {\n",
       "        vertical-align: top;\n",
       "    }\n",
       "\n",
       "    .dataframe thead th {\n",
       "        text-align: right;\n",
       "    }\n",
       "</style>\n",
       "<table border=\"1\" class=\"dataframe\">\n",
       "  <thead>\n",
       "    <tr style=\"text-align: right;\">\n",
       "      <th></th>\n",
       "      <th>count</th>\n",
       "      <th>mean</th>\n",
       "      <th>std</th>\n",
       "      <th>min</th>\n",
       "      <th>25%</th>\n",
       "      <th>50%</th>\n",
       "      <th>75%</th>\n",
       "      <th>max</th>\n",
       "    </tr>\n",
       "    <tr>\n",
       "      <th>company_location</th>\n",
       "      <th></th>\n",
       "      <th></th>\n",
       "      <th></th>\n",
       "      <th></th>\n",
       "      <th></th>\n",
       "      <th></th>\n",
       "      <th></th>\n",
       "      <th></th>\n",
       "    </tr>\n",
       "  </thead>\n",
       "  <tbody>\n",
       "    <tr>\n",
       "      <th>AT</th>\n",
       "      <td>2.0</td>\n",
       "      <td>76352.000000</td>\n",
       "      <td>21050.568876</td>\n",
       "      <td>61467.0</td>\n",
       "      <td>68909.5</td>\n",
       "      <td>76352.0</td>\n",
       "      <td>83794.50</td>\n",
       "      <td>91237.0</td>\n",
       "    </tr>\n",
       "    <tr>\n",
       "      <th>AU</th>\n",
       "      <td>1.0</td>\n",
       "      <td>86703.000000</td>\n",
       "      <td>NaN</td>\n",
       "      <td>86703.0</td>\n",
       "      <td>86703.0</td>\n",
       "      <td>86703.0</td>\n",
       "      <td>86703.00</td>\n",
       "      <td>86703.0</td>\n",
       "    </tr>\n",
       "    <tr>\n",
       "      <th>BR</th>\n",
       "      <td>1.0</td>\n",
       "      <td>12901.000000</td>\n",
       "      <td>NaN</td>\n",
       "      <td>12901.0</td>\n",
       "      <td>12901.0</td>\n",
       "      <td>12901.0</td>\n",
       "      <td>12901.00</td>\n",
       "      <td>12901.0</td>\n",
       "    </tr>\n",
       "    <tr>\n",
       "      <th>CA</th>\n",
       "      <td>5.0</td>\n",
       "      <td>77787.000000</td>\n",
       "      <td>19301.645448</td>\n",
       "      <td>52396.0</td>\n",
       "      <td>69336.0</td>\n",
       "      <td>75774.0</td>\n",
       "      <td>87738.00</td>\n",
       "      <td>103691.0</td>\n",
       "    </tr>\n",
       "    <tr>\n",
       "      <th>CH</th>\n",
       "      <td>1.0</td>\n",
       "      <td>122346.000000</td>\n",
       "      <td>NaN</td>\n",
       "      <td>122346.0</td>\n",
       "      <td>122346.0</td>\n",
       "      <td>122346.0</td>\n",
       "      <td>122346.00</td>\n",
       "      <td>122346.0</td>\n",
       "    </tr>\n",
       "    <tr>\n",
       "      <th>CL</th>\n",
       "      <td>1.0</td>\n",
       "      <td>40038.000000</td>\n",
       "      <td>NaN</td>\n",
       "      <td>40038.0</td>\n",
       "      <td>40038.0</td>\n",
       "      <td>40038.0</td>\n",
       "      <td>40038.00</td>\n",
       "      <td>40038.0</td>\n",
       "    </tr>\n",
       "    <tr>\n",
       "      <th>DE</th>\n",
       "      <td>7.0</td>\n",
       "      <td>69640.142857</td>\n",
       "      <td>25045.560355</td>\n",
       "      <td>25532.0</td>\n",
       "      <td>55997.0</td>\n",
       "      <td>79833.0</td>\n",
       "      <td>89694.00</td>\n",
       "      <td>90734.0</td>\n",
       "    </tr>\n",
       "    <tr>\n",
       "      <th>DZ</th>\n",
       "      <td>1.0</td>\n",
       "      <td>100000.000000</td>\n",
       "      <td>NaN</td>\n",
       "      <td>100000.0</td>\n",
       "      <td>100000.0</td>\n",
       "      <td>100000.0</td>\n",
       "      <td>100000.00</td>\n",
       "      <td>100000.0</td>\n",
       "    </tr>\n",
       "    <tr>\n",
       "      <th>ES</th>\n",
       "      <td>3.0</td>\n",
       "      <td>41136.666667</td>\n",
       "      <td>4935.344399</td>\n",
       "      <td>37825.0</td>\n",
       "      <td>38300.5</td>\n",
       "      <td>38776.0</td>\n",
       "      <td>42792.50</td>\n",
       "      <td>46809.0</td>\n",
       "    </tr>\n",
       "    <tr>\n",
       "      <th>FR</th>\n",
       "      <td>7.0</td>\n",
       "      <td>50085.571429</td>\n",
       "      <td>13658.911216</td>\n",
       "      <td>36643.0</td>\n",
       "      <td>41056.5</td>\n",
       "      <td>49646.0</td>\n",
       "      <td>52256.50</td>\n",
       "      <td>77684.0</td>\n",
       "    </tr>\n",
       "    <tr>\n",
       "      <th>GB</th>\n",
       "      <td>11.0</td>\n",
       "      <td>88177.363636</td>\n",
       "      <td>41393.501363</td>\n",
       "      <td>39263.0</td>\n",
       "      <td>60847.0</td>\n",
       "      <td>76958.0</td>\n",
       "      <td>110808.00</td>\n",
       "      <td>183228.0</td>\n",
       "    </tr>\n",
       "    <tr>\n",
       "      <th>HU</th>\n",
       "      <td>1.0</td>\n",
       "      <td>35735.000000</td>\n",
       "      <td>NaN</td>\n",
       "      <td>35735.0</td>\n",
       "      <td>35735.0</td>\n",
       "      <td>35735.0</td>\n",
       "      <td>35735.00</td>\n",
       "      <td>35735.0</td>\n",
       "    </tr>\n",
       "    <tr>\n",
       "      <th>IL</th>\n",
       "      <td>1.0</td>\n",
       "      <td>119059.000000</td>\n",
       "      <td>NaN</td>\n",
       "      <td>119059.0</td>\n",
       "      <td>119059.0</td>\n",
       "      <td>119059.0</td>\n",
       "      <td>119059.00</td>\n",
       "      <td>119059.0</td>\n",
       "    </tr>\n",
       "    <tr>\n",
       "      <th>IN</th>\n",
       "      <td>8.0</td>\n",
       "      <td>26108.250000</td>\n",
       "      <td>10248.049595</td>\n",
       "      <td>9466.0</td>\n",
       "      <td>18057.5</td>\n",
       "      <td>29075.0</td>\n",
       "      <td>32163.25</td>\n",
       "      <td>40481.0</td>\n",
       "    </tr>\n",
       "    <tr>\n",
       "      <th>IT</th>\n",
       "      <td>1.0</td>\n",
       "      <td>21669.000000</td>\n",
       "      <td>NaN</td>\n",
       "      <td>21669.0</td>\n",
       "      <td>21669.0</td>\n",
       "      <td>21669.0</td>\n",
       "      <td>21669.00</td>\n",
       "      <td>21669.0</td>\n",
       "    </tr>\n",
       "    <tr>\n",
       "      <th>LU</th>\n",
       "      <td>1.0</td>\n",
       "      <td>62726.000000</td>\n",
       "      <td>NaN</td>\n",
       "      <td>62726.0</td>\n",
       "      <td>62726.0</td>\n",
       "      <td>62726.0</td>\n",
       "      <td>62726.00</td>\n",
       "      <td>62726.0</td>\n",
       "    </tr>\n",
       "    <tr>\n",
       "      <th>MX</th>\n",
       "      <td>1.0</td>\n",
       "      <td>2859.000000</td>\n",
       "      <td>NaN</td>\n",
       "      <td>2859.0</td>\n",
       "      <td>2859.0</td>\n",
       "      <td>2859.0</td>\n",
       "      <td>2859.00</td>\n",
       "      <td>2859.0</td>\n",
       "    </tr>\n",
       "    <tr>\n",
       "      <th>MY</th>\n",
       "      <td>1.0</td>\n",
       "      <td>40000.000000</td>\n",
       "      <td>NaN</td>\n",
       "      <td>40000.0</td>\n",
       "      <td>40000.0</td>\n",
       "      <td>40000.0</td>\n",
       "      <td>40000.00</td>\n",
       "      <td>40000.0</td>\n",
       "    </tr>\n",
       "    <tr>\n",
       "      <th>NG</th>\n",
       "      <td>1.0</td>\n",
       "      <td>50000.000000</td>\n",
       "      <td>NaN</td>\n",
       "      <td>50000.0</td>\n",
       "      <td>50000.0</td>\n",
       "      <td>50000.0</td>\n",
       "      <td>50000.00</td>\n",
       "      <td>50000.0</td>\n",
       "    </tr>\n",
       "    <tr>\n",
       "      <th>PL</th>\n",
       "      <td>1.0</td>\n",
       "      <td>35590.000000</td>\n",
       "      <td>NaN</td>\n",
       "      <td>35590.0</td>\n",
       "      <td>35590.0</td>\n",
       "      <td>35590.0</td>\n",
       "      <td>35590.00</td>\n",
       "      <td>35590.0</td>\n",
       "    </tr>\n",
       "    <tr>\n",
       "      <th>TR</th>\n",
       "      <td>1.0</td>\n",
       "      <td>20171.000000</td>\n",
       "      <td>NaN</td>\n",
       "      <td>20171.0</td>\n",
       "      <td>20171.0</td>\n",
       "      <td>20171.0</td>\n",
       "      <td>20171.00</td>\n",
       "      <td>20171.0</td>\n",
       "    </tr>\n",
       "    <tr>\n",
       "      <th>UA</th>\n",
       "      <td>1.0</td>\n",
       "      <td>13400.000000</td>\n",
       "      <td>NaN</td>\n",
       "      <td>13400.0</td>\n",
       "      <td>13400.0</td>\n",
       "      <td>13400.0</td>\n",
       "      <td>13400.00</td>\n",
       "      <td>13400.0</td>\n",
       "    </tr>\n",
       "    <tr>\n",
       "      <th>US</th>\n",
       "      <td>84.0</td>\n",
       "      <td>143115.678571</td>\n",
       "      <td>56252.981594</td>\n",
       "      <td>5679.0</td>\n",
       "      <td>105000.0</td>\n",
       "      <td>140000.0</td>\n",
       "      <td>167750.00</td>\n",
       "      <td>412000.0</td>\n",
       "    </tr>\n",
       "    <tr>\n",
       "      <th>VN</th>\n",
       "      <td>1.0</td>\n",
       "      <td>4000.000000</td>\n",
       "      <td>NaN</td>\n",
       "      <td>4000.0</td>\n",
       "      <td>4000.0</td>\n",
       "      <td>4000.0</td>\n",
       "      <td>4000.00</td>\n",
       "      <td>4000.0</td>\n",
       "    </tr>\n",
       "  </tbody>\n",
       "</table>\n",
       "</div>"
      ],
      "text/plain": [
       "                  count           mean           std       min       25%  \\\n",
       "company_location                                                           \n",
       "AT                  2.0   76352.000000  21050.568876   61467.0   68909.5   \n",
       "AU                  1.0   86703.000000           NaN   86703.0   86703.0   \n",
       "BR                  1.0   12901.000000           NaN   12901.0   12901.0   \n",
       "CA                  5.0   77787.000000  19301.645448   52396.0   69336.0   \n",
       "CH                  1.0  122346.000000           NaN  122346.0  122346.0   \n",
       "CL                  1.0   40038.000000           NaN   40038.0   40038.0   \n",
       "DE                  7.0   69640.142857  25045.560355   25532.0   55997.0   \n",
       "DZ                  1.0  100000.000000           NaN  100000.0  100000.0   \n",
       "ES                  3.0   41136.666667   4935.344399   37825.0   38300.5   \n",
       "FR                  7.0   50085.571429  13658.911216   36643.0   41056.5   \n",
       "GB                 11.0   88177.363636  41393.501363   39263.0   60847.0   \n",
       "HU                  1.0   35735.000000           NaN   35735.0   35735.0   \n",
       "IL                  1.0  119059.000000           NaN  119059.0  119059.0   \n",
       "IN                  8.0   26108.250000  10248.049595    9466.0   18057.5   \n",
       "IT                  1.0   21669.000000           NaN   21669.0   21669.0   \n",
       "LU                  1.0   62726.000000           NaN   62726.0   62726.0   \n",
       "MX                  1.0    2859.000000           NaN    2859.0    2859.0   \n",
       "MY                  1.0   40000.000000           NaN   40000.0   40000.0   \n",
       "NG                  1.0   50000.000000           NaN   50000.0   50000.0   \n",
       "PL                  1.0   35590.000000           NaN   35590.0   35590.0   \n",
       "TR                  1.0   20171.000000           NaN   20171.0   20171.0   \n",
       "UA                  1.0   13400.000000           NaN   13400.0   13400.0   \n",
       "US                 84.0  143115.678571  56252.981594    5679.0  105000.0   \n",
       "VN                  1.0    4000.000000           NaN    4000.0    4000.0   \n",
       "\n",
       "                       50%        75%       max  \n",
       "company_location                                 \n",
       "AT                 76352.0   83794.50   91237.0  \n",
       "AU                 86703.0   86703.00   86703.0  \n",
       "BR                 12901.0   12901.00   12901.0  \n",
       "CA                 75774.0   87738.00  103691.0  \n",
       "CH                122346.0  122346.00  122346.0  \n",
       "CL                 40038.0   40038.00   40038.0  \n",
       "DE                 79833.0   89694.00   90734.0  \n",
       "DZ                100000.0  100000.00  100000.0  \n",
       "ES                 38776.0   42792.50   46809.0  \n",
       "FR                 49646.0   52256.50   77684.0  \n",
       "GB                 76958.0  110808.00  183228.0  \n",
       "HU                 35735.0   35735.00   35735.0  \n",
       "IL                119059.0  119059.00  119059.0  \n",
       "IN                 29075.0   32163.25   40481.0  \n",
       "IT                 21669.0   21669.00   21669.0  \n",
       "LU                 62726.0   62726.00   62726.0  \n",
       "MX                  2859.0    2859.00    2859.0  \n",
       "MY                 40000.0   40000.00   40000.0  \n",
       "NG                 50000.0   50000.00   50000.0  \n",
       "PL                 35590.0   35590.00   35590.0  \n",
       "TR                 20171.0   20171.00   20171.0  \n",
       "UA                 13400.0   13400.00   13400.0  \n",
       "US                140000.0  167750.00  412000.0  \n",
       "VN                  4000.0    4000.00    4000.0  "
      ]
     },
     "execution_count": 638,
     "metadata": {},
     "output_type": "execute_result"
    }
   ],
   "source": [
    "# Группируем данные и выводим их в произвольном порядке\n",
    "data_agg = data[data['job_title']=='Data Scientist'].groupby('company_location')['salary_in_usd'].describe()\n",
    "\n",
    "# Выводим результат\n",
    "print('Зарплата в USD в зависимости от страны главного офиса работодателя')\n",
    "data_agg"
   ]
  },
  {
   "cell_type": "markdown",
   "metadata": {},
   "source": [
    "Судя по данным распределение зарплат относительно стран различно. Страна главного офиса работодателя влияет на зарплату у специалистов Data Scientist."
   ]
  },
  {
   "cell_type": "code",
   "execution_count": 639,
   "metadata": {},
   "outputs": [
    {
     "name": "stdout",
     "output_type": "stream",
     "text": [
      "Зарплата в USD в зависимости от страны проживания сотрудника\n"
     ]
    },
    {
     "data": {
      "text/html": [
       "<div>\n",
       "<style scoped>\n",
       "    .dataframe tbody tr th:only-of-type {\n",
       "        vertical-align: middle;\n",
       "    }\n",
       "\n",
       "    .dataframe tbody tr th {\n",
       "        vertical-align: top;\n",
       "    }\n",
       "\n",
       "    .dataframe thead th {\n",
       "        text-align: right;\n",
       "    }\n",
       "</style>\n",
       "<table border=\"1\" class=\"dataframe\">\n",
       "  <thead>\n",
       "    <tr style=\"text-align: right;\">\n",
       "      <th></th>\n",
       "      <th>count</th>\n",
       "      <th>mean</th>\n",
       "      <th>std</th>\n",
       "      <th>min</th>\n",
       "      <th>25%</th>\n",
       "      <th>50%</th>\n",
       "      <th>75%</th>\n",
       "      <th>max</th>\n",
       "    </tr>\n",
       "    <tr>\n",
       "      <th>employee_residence</th>\n",
       "      <th></th>\n",
       "      <th></th>\n",
       "      <th></th>\n",
       "      <th></th>\n",
       "      <th></th>\n",
       "      <th></th>\n",
       "      <th></th>\n",
       "      <th></th>\n",
       "    </tr>\n",
       "  </thead>\n",
       "  <tbody>\n",
       "    <tr>\n",
       "      <th>AT</th>\n",
       "      <td>1.0</td>\n",
       "      <td>91237.000000</td>\n",
       "      <td>NaN</td>\n",
       "      <td>91237.0</td>\n",
       "      <td>91237.00</td>\n",
       "      <td>91237.0</td>\n",
       "      <td>91237.00</td>\n",
       "      <td>91237.0</td>\n",
       "    </tr>\n",
       "    <tr>\n",
       "      <th>AU</th>\n",
       "      <td>1.0</td>\n",
       "      <td>86703.000000</td>\n",
       "      <td>NaN</td>\n",
       "      <td>86703.0</td>\n",
       "      <td>86703.00</td>\n",
       "      <td>86703.0</td>\n",
       "      <td>86703.00</td>\n",
       "      <td>86703.0</td>\n",
       "    </tr>\n",
       "    <tr>\n",
       "      <th>BR</th>\n",
       "      <td>2.0</td>\n",
       "      <td>56450.500000</td>\n",
       "      <td>61588.293535</td>\n",
       "      <td>12901.0</td>\n",
       "      <td>34675.75</td>\n",
       "      <td>56450.5</td>\n",
       "      <td>78225.25</td>\n",
       "      <td>100000.0</td>\n",
       "    </tr>\n",
       "    <tr>\n",
       "      <th>CA</th>\n",
       "      <td>6.0</td>\n",
       "      <td>81489.166667</td>\n",
       "      <td>19500.744646</td>\n",
       "      <td>52396.0</td>\n",
       "      <td>70945.50</td>\n",
       "      <td>81756.0</td>\n",
       "      <td>96934.50</td>\n",
       "      <td>103691.0</td>\n",
       "    </tr>\n",
       "    <tr>\n",
       "      <th>CH</th>\n",
       "      <td>1.0</td>\n",
       "      <td>122346.000000</td>\n",
       "      <td>NaN</td>\n",
       "      <td>122346.0</td>\n",
       "      <td>122346.00</td>\n",
       "      <td>122346.0</td>\n",
       "      <td>122346.00</td>\n",
       "      <td>122346.0</td>\n",
       "    </tr>\n",
       "    <tr>\n",
       "      <th>CL</th>\n",
       "      <td>1.0</td>\n",
       "      <td>40038.000000</td>\n",
       "      <td>NaN</td>\n",
       "      <td>40038.0</td>\n",
       "      <td>40038.00</td>\n",
       "      <td>40038.0</td>\n",
       "      <td>40038.00</td>\n",
       "      <td>40038.0</td>\n",
       "    </tr>\n",
       "    <tr>\n",
       "      <th>DE</th>\n",
       "      <td>7.0</td>\n",
       "      <td>74773.714286</td>\n",
       "      <td>16834.872881</td>\n",
       "      <td>49268.0</td>\n",
       "      <td>62096.50</td>\n",
       "      <td>79833.0</td>\n",
       "      <td>89694.00</td>\n",
       "      <td>90734.0</td>\n",
       "    </tr>\n",
       "    <tr>\n",
       "      <th>DZ</th>\n",
       "      <td>1.0</td>\n",
       "      <td>100000.000000</td>\n",
       "      <td>NaN</td>\n",
       "      <td>100000.0</td>\n",
       "      <td>100000.00</td>\n",
       "      <td>100000.0</td>\n",
       "      <td>100000.00</td>\n",
       "      <td>100000.0</td>\n",
       "    </tr>\n",
       "    <tr>\n",
       "      <th>ES</th>\n",
       "      <td>3.0</td>\n",
       "      <td>41136.666667</td>\n",
       "      <td>4935.344399</td>\n",
       "      <td>37825.0</td>\n",
       "      <td>38300.50</td>\n",
       "      <td>38776.0</td>\n",
       "      <td>42792.50</td>\n",
       "      <td>46809.0</td>\n",
       "    </tr>\n",
       "    <tr>\n",
       "      <th>FR</th>\n",
       "      <td>8.0</td>\n",
       "      <td>51665.625000</td>\n",
       "      <td>13412.164062</td>\n",
       "      <td>36643.0</td>\n",
       "      <td>41626.75</td>\n",
       "      <td>50483.5</td>\n",
       "      <td>55575.50</td>\n",
       "      <td>77684.0</td>\n",
       "    </tr>\n",
       "    <tr>\n",
       "      <th>GB</th>\n",
       "      <td>11.0</td>\n",
       "      <td>88177.363636</td>\n",
       "      <td>41393.501363</td>\n",
       "      <td>39263.0</td>\n",
       "      <td>60847.00</td>\n",
       "      <td>76958.0</td>\n",
       "      <td>110808.00</td>\n",
       "      <td>183228.0</td>\n",
       "    </tr>\n",
       "    <tr>\n",
       "      <th>GR</th>\n",
       "      <td>1.0</td>\n",
       "      <td>68428.000000</td>\n",
       "      <td>NaN</td>\n",
       "      <td>68428.0</td>\n",
       "      <td>68428.00</td>\n",
       "      <td>68428.0</td>\n",
       "      <td>68428.00</td>\n",
       "      <td>68428.0</td>\n",
       "    </tr>\n",
       "    <tr>\n",
       "      <th>HU</th>\n",
       "      <td>1.0</td>\n",
       "      <td>35735.000000</td>\n",
       "      <td>NaN</td>\n",
       "      <td>35735.0</td>\n",
       "      <td>35735.00</td>\n",
       "      <td>35735.0</td>\n",
       "      <td>35735.00</td>\n",
       "      <td>35735.0</td>\n",
       "    </tr>\n",
       "    <tr>\n",
       "      <th>IN</th>\n",
       "      <td>9.0</td>\n",
       "      <td>23838.333333</td>\n",
       "      <td>11758.715938</td>\n",
       "      <td>5679.0</td>\n",
       "      <td>16904.00</td>\n",
       "      <td>28399.0</td>\n",
       "      <td>31615.00</td>\n",
       "      <td>40481.0</td>\n",
       "    </tr>\n",
       "    <tr>\n",
       "      <th>IT</th>\n",
       "      <td>1.0</td>\n",
       "      <td>21669.000000</td>\n",
       "      <td>NaN</td>\n",
       "      <td>21669.0</td>\n",
       "      <td>21669.00</td>\n",
       "      <td>21669.0</td>\n",
       "      <td>21669.00</td>\n",
       "      <td>21669.0</td>\n",
       "    </tr>\n",
       "    <tr>\n",
       "      <th>JP</th>\n",
       "      <td>1.0</td>\n",
       "      <td>40000.000000</td>\n",
       "      <td>NaN</td>\n",
       "      <td>40000.0</td>\n",
       "      <td>40000.00</td>\n",
       "      <td>40000.0</td>\n",
       "      <td>40000.00</td>\n",
       "      <td>40000.0</td>\n",
       "    </tr>\n",
       "    <tr>\n",
       "      <th>MX</th>\n",
       "      <td>1.0</td>\n",
       "      <td>2859.000000</td>\n",
       "      <td>NaN</td>\n",
       "      <td>2859.0</td>\n",
       "      <td>2859.00</td>\n",
       "      <td>2859.0</td>\n",
       "      <td>2859.00</td>\n",
       "      <td>2859.0</td>\n",
       "    </tr>\n",
       "    <tr>\n",
       "      <th>NG</th>\n",
       "      <td>1.0</td>\n",
       "      <td>50000.000000</td>\n",
       "      <td>NaN</td>\n",
       "      <td>50000.0</td>\n",
       "      <td>50000.00</td>\n",
       "      <td>50000.0</td>\n",
       "      <td>50000.00</td>\n",
       "      <td>50000.0</td>\n",
       "    </tr>\n",
       "    <tr>\n",
       "      <th>PH</th>\n",
       "      <td>1.0</td>\n",
       "      <td>45760.000000</td>\n",
       "      <td>NaN</td>\n",
       "      <td>45760.0</td>\n",
       "      <td>45760.00</td>\n",
       "      <td>45760.0</td>\n",
       "      <td>45760.00</td>\n",
       "      <td>45760.0</td>\n",
       "    </tr>\n",
       "    <tr>\n",
       "      <th>PL</th>\n",
       "      <td>1.0</td>\n",
       "      <td>35590.000000</td>\n",
       "      <td>NaN</td>\n",
       "      <td>35590.0</td>\n",
       "      <td>35590.00</td>\n",
       "      <td>35590.0</td>\n",
       "      <td>35590.00</td>\n",
       "      <td>35590.0</td>\n",
       "    </tr>\n",
       "    <tr>\n",
       "      <th>RS</th>\n",
       "      <td>1.0</td>\n",
       "      <td>25532.000000</td>\n",
       "      <td>NaN</td>\n",
       "      <td>25532.0</td>\n",
       "      <td>25532.00</td>\n",
       "      <td>25532.0</td>\n",
       "      <td>25532.00</td>\n",
       "      <td>25532.0</td>\n",
       "    </tr>\n",
       "    <tr>\n",
       "      <th>RU</th>\n",
       "      <td>1.0</td>\n",
       "      <td>48000.000000</td>\n",
       "      <td>NaN</td>\n",
       "      <td>48000.0</td>\n",
       "      <td>48000.00</td>\n",
       "      <td>48000.0</td>\n",
       "      <td>48000.00</td>\n",
       "      <td>48000.0</td>\n",
       "    </tr>\n",
       "    <tr>\n",
       "      <th>SG</th>\n",
       "      <td>1.0</td>\n",
       "      <td>119059.000000</td>\n",
       "      <td>NaN</td>\n",
       "      <td>119059.0</td>\n",
       "      <td>119059.00</td>\n",
       "      <td>119059.0</td>\n",
       "      <td>119059.00</td>\n",
       "      <td>119059.0</td>\n",
       "    </tr>\n",
       "    <tr>\n",
       "      <th>TR</th>\n",
       "      <td>1.0</td>\n",
       "      <td>20171.000000</td>\n",
       "      <td>NaN</td>\n",
       "      <td>20171.0</td>\n",
       "      <td>20171.00</td>\n",
       "      <td>20171.0</td>\n",
       "      <td>20171.00</td>\n",
       "      <td>20171.0</td>\n",
       "    </tr>\n",
       "    <tr>\n",
       "      <th>UA</th>\n",
       "      <td>1.0</td>\n",
       "      <td>13400.000000</td>\n",
       "      <td>NaN</td>\n",
       "      <td>13400.0</td>\n",
       "      <td>13400.00</td>\n",
       "      <td>13400.0</td>\n",
       "      <td>13400.00</td>\n",
       "      <td>13400.0</td>\n",
       "    </tr>\n",
       "    <tr>\n",
       "      <th>US</th>\n",
       "      <td>78.0</td>\n",
       "      <td>149408.333333</td>\n",
       "      <td>52576.016665</td>\n",
       "      <td>58000.0</td>\n",
       "      <td>120000.00</td>\n",
       "      <td>140000.0</td>\n",
       "      <td>174500.00</td>\n",
       "      <td>412000.0</td>\n",
       "    </tr>\n",
       "    <tr>\n",
       "      <th>VN</th>\n",
       "      <td>1.0</td>\n",
       "      <td>4000.000000</td>\n",
       "      <td>NaN</td>\n",
       "      <td>4000.0</td>\n",
       "      <td>4000.00</td>\n",
       "      <td>4000.0</td>\n",
       "      <td>4000.00</td>\n",
       "      <td>4000.0</td>\n",
       "    </tr>\n",
       "  </tbody>\n",
       "</table>\n",
       "</div>"
      ],
      "text/plain": [
       "                    count           mean           std       min        25%  \\\n",
       "employee_residence                                                            \n",
       "AT                    1.0   91237.000000           NaN   91237.0   91237.00   \n",
       "AU                    1.0   86703.000000           NaN   86703.0   86703.00   \n",
       "BR                    2.0   56450.500000  61588.293535   12901.0   34675.75   \n",
       "CA                    6.0   81489.166667  19500.744646   52396.0   70945.50   \n",
       "CH                    1.0  122346.000000           NaN  122346.0  122346.00   \n",
       "CL                    1.0   40038.000000           NaN   40038.0   40038.00   \n",
       "DE                    7.0   74773.714286  16834.872881   49268.0   62096.50   \n",
       "DZ                    1.0  100000.000000           NaN  100000.0  100000.00   \n",
       "ES                    3.0   41136.666667   4935.344399   37825.0   38300.50   \n",
       "FR                    8.0   51665.625000  13412.164062   36643.0   41626.75   \n",
       "GB                   11.0   88177.363636  41393.501363   39263.0   60847.00   \n",
       "GR                    1.0   68428.000000           NaN   68428.0   68428.00   \n",
       "HU                    1.0   35735.000000           NaN   35735.0   35735.00   \n",
       "IN                    9.0   23838.333333  11758.715938    5679.0   16904.00   \n",
       "IT                    1.0   21669.000000           NaN   21669.0   21669.00   \n",
       "JP                    1.0   40000.000000           NaN   40000.0   40000.00   \n",
       "MX                    1.0    2859.000000           NaN    2859.0    2859.00   \n",
       "NG                    1.0   50000.000000           NaN   50000.0   50000.00   \n",
       "PH                    1.0   45760.000000           NaN   45760.0   45760.00   \n",
       "PL                    1.0   35590.000000           NaN   35590.0   35590.00   \n",
       "RS                    1.0   25532.000000           NaN   25532.0   25532.00   \n",
       "RU                    1.0   48000.000000           NaN   48000.0   48000.00   \n",
       "SG                    1.0  119059.000000           NaN  119059.0  119059.00   \n",
       "TR                    1.0   20171.000000           NaN   20171.0   20171.00   \n",
       "UA                    1.0   13400.000000           NaN   13400.0   13400.00   \n",
       "US                   78.0  149408.333333  52576.016665   58000.0  120000.00   \n",
       "VN                    1.0    4000.000000           NaN    4000.0    4000.00   \n",
       "\n",
       "                         50%        75%       max  \n",
       "employee_residence                                 \n",
       "AT                   91237.0   91237.00   91237.0  \n",
       "AU                   86703.0   86703.00   86703.0  \n",
       "BR                   56450.5   78225.25  100000.0  \n",
       "CA                   81756.0   96934.50  103691.0  \n",
       "CH                  122346.0  122346.00  122346.0  \n",
       "CL                   40038.0   40038.00   40038.0  \n",
       "DE                   79833.0   89694.00   90734.0  \n",
       "DZ                  100000.0  100000.00  100000.0  \n",
       "ES                   38776.0   42792.50   46809.0  \n",
       "FR                   50483.5   55575.50   77684.0  \n",
       "GB                   76958.0  110808.00  183228.0  \n",
       "GR                   68428.0   68428.00   68428.0  \n",
       "HU                   35735.0   35735.00   35735.0  \n",
       "IN                   28399.0   31615.00   40481.0  \n",
       "IT                   21669.0   21669.00   21669.0  \n",
       "JP                   40000.0   40000.00   40000.0  \n",
       "MX                    2859.0    2859.00    2859.0  \n",
       "NG                   50000.0   50000.00   50000.0  \n",
       "PH                   45760.0   45760.00   45760.0  \n",
       "PL                   35590.0   35590.00   35590.0  \n",
       "RS                   25532.0   25532.00   25532.0  \n",
       "RU                   48000.0   48000.00   48000.0  \n",
       "SG                  119059.0  119059.00  119059.0  \n",
       "TR                   20171.0   20171.00   20171.0  \n",
       "UA                   13400.0   13400.00   13400.0  \n",
       "US                  140000.0  174500.00  412000.0  \n",
       "VN                    4000.0    4000.00    4000.0  "
      ]
     },
     "execution_count": 639,
     "metadata": {},
     "output_type": "execute_result"
    }
   ],
   "source": [
    "# Группируем данные и выводим их в произвольном порядке\n",
    "data_agg = data[data['job_title']=='Data Scientist'].groupby('employee_residence')['salary_in_usd'].describe()\n",
    "\n",
    "# Выводим результат\n",
    "print('Зарплата в USD в зависимости от страны проживания сотрудника')\n",
    "data_agg"
   ]
  },
  {
   "cell_type": "markdown",
   "metadata": {},
   "source": [
    "Распределение зарплат относительно стран проживания различно. Страна проживания влияет на зарплату у специалистов Data Scientist. "
   ]
  },
  {
   "cell_type": "code",
   "execution_count": 640,
   "metadata": {},
   "outputs": [
    {
     "name": "stdout",
     "output_type": "stream",
     "text": [
      "Зарплата в USD  зависимости от величины компании\n"
     ]
    },
    {
     "data": {
      "text/html": [
       "<div>\n",
       "<style scoped>\n",
       "    .dataframe tbody tr th:only-of-type {\n",
       "        vertical-align: middle;\n",
       "    }\n",
       "\n",
       "    .dataframe tbody tr th {\n",
       "        vertical-align: top;\n",
       "    }\n",
       "\n",
       "    .dataframe thead th {\n",
       "        text-align: right;\n",
       "    }\n",
       "</style>\n",
       "<table border=\"1\" class=\"dataframe\">\n",
       "  <thead>\n",
       "    <tr style=\"text-align: right;\">\n",
       "      <th></th>\n",
       "      <th>count</th>\n",
       "      <th>mean</th>\n",
       "      <th>std</th>\n",
       "      <th>min</th>\n",
       "      <th>25%</th>\n",
       "      <th>50%</th>\n",
       "      <th>75%</th>\n",
       "      <th>max</th>\n",
       "    </tr>\n",
       "    <tr>\n",
       "      <th>company_size</th>\n",
       "      <th></th>\n",
       "      <th></th>\n",
       "      <th></th>\n",
       "      <th></th>\n",
       "      <th></th>\n",
       "      <th></th>\n",
       "      <th></th>\n",
       "      <th></th>\n",
       "    </tr>\n",
       "  </thead>\n",
       "  <tbody>\n",
       "    <tr>\n",
       "      <th>S</th>\n",
       "      <td>21.0</td>\n",
       "      <td>51925.761905</td>\n",
       "      <td>33216.289638</td>\n",
       "      <td>2859.0</td>\n",
       "      <td>21669.0</td>\n",
       "      <td>49268.0</td>\n",
       "      <td>82500.0</td>\n",
       "      <td>105000.0</td>\n",
       "    </tr>\n",
       "    <tr>\n",
       "      <th>M</th>\n",
       "      <td>77.0</td>\n",
       "      <td>126380.753247</td>\n",
       "      <td>56389.528710</td>\n",
       "      <td>4000.0</td>\n",
       "      <td>90000.0</td>\n",
       "      <td>130000.0</td>\n",
       "      <td>165000.0</td>\n",
       "      <td>260000.0</td>\n",
       "    </tr>\n",
       "    <tr>\n",
       "      <th>L</th>\n",
       "      <td>45.0</td>\n",
       "      <td>103313.355556</td>\n",
       "      <td>71815.176484</td>\n",
       "      <td>13400.0</td>\n",
       "      <td>50000.0</td>\n",
       "      <td>90734.0</td>\n",
       "      <td>135000.0</td>\n",
       "      <td>412000.0</td>\n",
       "    </tr>\n",
       "  </tbody>\n",
       "</table>\n",
       "</div>"
      ],
      "text/plain": [
       "              count           mean           std      min      25%       50%  \\\n",
       "company_size                                                                   \n",
       "S              21.0   51925.761905  33216.289638   2859.0  21669.0   49268.0   \n",
       "M              77.0  126380.753247  56389.528710   4000.0  90000.0  130000.0   \n",
       "L              45.0  103313.355556  71815.176484  13400.0  50000.0   90734.0   \n",
       "\n",
       "                   75%       max  \n",
       "company_size                      \n",
       "S              82500.0  105000.0  \n",
       "M             165000.0  260000.0  \n",
       "L             135000.0  412000.0  "
      ]
     },
     "execution_count": 640,
     "metadata": {},
     "output_type": "execute_result"
    }
   ],
   "source": [
    "custom_order = ['S', 'M', 'L']\n",
    "\n",
    "# Группируем данные и выводим их в произвольном порядке\n",
    "data_agg = data[data['job_title']=='Data Scientist'].groupby('company_size')['salary_in_usd'].describe()\n",
    "data_agg = data_agg.reindex(custom_order)\n",
    "\n",
    "# Выводим результат\n",
    "print('Зарплата в USD  зависимости от величины компании')\n",
    "data_agg"
   ]
  },
  {
   "cell_type": "markdown",
   "metadata": {},
   "source": [
    "Распределение зарплат относительно величины компании различно. Величина компании влияет на зарплату у специалистов Data Scientist."
   ]
  },
  {
   "cell_type": "code",
   "execution_count": 641,
   "metadata": {},
   "outputs": [
    {
     "name": "stdout",
     "output_type": "stream",
     "text": [
      "Зарплата в USD в зависимости от общего объёма работы, выполняемого удалённо в %\n"
     ]
    },
    {
     "data": {
      "text/html": [
       "<div>\n",
       "<style scoped>\n",
       "    .dataframe tbody tr th:only-of-type {\n",
       "        vertical-align: middle;\n",
       "    }\n",
       "\n",
       "    .dataframe tbody tr th {\n",
       "        vertical-align: top;\n",
       "    }\n",
       "\n",
       "    .dataframe thead th {\n",
       "        text-align: right;\n",
       "    }\n",
       "</style>\n",
       "<table border=\"1\" class=\"dataframe\">\n",
       "  <thead>\n",
       "    <tr style=\"text-align: right;\">\n",
       "      <th></th>\n",
       "      <th>count</th>\n",
       "      <th>mean</th>\n",
       "      <th>std</th>\n",
       "      <th>min</th>\n",
       "      <th>25%</th>\n",
       "      <th>50%</th>\n",
       "      <th>75%</th>\n",
       "      <th>max</th>\n",
       "    </tr>\n",
       "    <tr>\n",
       "      <th>remote_ratio</th>\n",
       "      <th></th>\n",
       "      <th></th>\n",
       "      <th></th>\n",
       "      <th></th>\n",
       "      <th></th>\n",
       "      <th></th>\n",
       "      <th></th>\n",
       "      <th></th>\n",
       "    </tr>\n",
       "  </thead>\n",
       "  <tbody>\n",
       "    <tr>\n",
       "      <th>0</th>\n",
       "      <td>39.0</td>\n",
       "      <td>99520.743590</td>\n",
       "      <td>58259.423987</td>\n",
       "      <td>2859.0</td>\n",
       "      <td>50294.5</td>\n",
       "      <td>95550.0</td>\n",
       "      <td>140400.0</td>\n",
       "      <td>215300.0</td>\n",
       "    </tr>\n",
       "    <tr>\n",
       "      <th>50</th>\n",
       "      <td>25.0</td>\n",
       "      <td>74504.080000</td>\n",
       "      <td>35602.824979</td>\n",
       "      <td>20171.0</td>\n",
       "      <td>49646.0</td>\n",
       "      <td>62726.0</td>\n",
       "      <td>100000.0</td>\n",
       "      <td>147000.0</td>\n",
       "    </tr>\n",
       "    <tr>\n",
       "      <th>100</th>\n",
       "      <td>79.0</td>\n",
       "      <td>123125.936709</td>\n",
       "      <td>69370.994779</td>\n",
       "      <td>5679.0</td>\n",
       "      <td>76366.0</td>\n",
       "      <td>123000.0</td>\n",
       "      <td>162500.0</td>\n",
       "      <td>412000.0</td>\n",
       "    </tr>\n",
       "  </tbody>\n",
       "</table>\n",
       "</div>"
      ],
      "text/plain": [
       "              count           mean           std      min      25%       50%  \\\n",
       "remote_ratio                                                                   \n",
       "0              39.0   99520.743590  58259.423987   2859.0  50294.5   95550.0   \n",
       "50             25.0   74504.080000  35602.824979  20171.0  49646.0   62726.0   \n",
       "100            79.0  123125.936709  69370.994779   5679.0  76366.0  123000.0   \n",
       "\n",
       "                   75%       max  \n",
       "remote_ratio                      \n",
       "0             140400.0  215300.0  \n",
       "50            100000.0  147000.0  \n",
       "100           162500.0  412000.0  "
      ]
     },
     "execution_count": 641,
     "metadata": {},
     "output_type": "execute_result"
    }
   ],
   "source": [
    "# Группируем данные и выводим их в произвольном порядке\n",
    "data_agg = data[data['job_title']=='Data Scientist'].groupby('remote_ratio')['salary_in_usd'].describe()\n",
    "\n",
    "# Выводим результат\n",
    "print('Зарплата в USD в зависимости от общего объёма работы, выполняемого удалённо в %')\n",
    "data_agg"
   ]
  },
  {
   "cell_type": "markdown",
   "metadata": {},
   "source": [
    "Распределение зарплат относительно процента выполняемой удаленно работы различно. Процента выполняемой удаленно работы влияет на зарплату у специалистов Data Scientist."
   ]
  },
  {
   "cell_type": "markdown",
   "metadata": {},
   "source": [
    "### Была ли зарплата специалистов Data Scientist больше, чем запрплата специлистов Data Engineer в 2022 году?"
   ]
  },
  {
   "cell_type": "code",
   "execution_count": 642,
   "metadata": {},
   "outputs": [
    {
     "data": {
      "image/png": "[encoded data removed]",
      "text/plain": [
       "<Figure size 864x504 with 1 Axes>"
      ]
     },
     "metadata": {},
     "output_type": "display_data"
    }
   ],
   "source": [
    "# строим график для зарплат Data Scientist и Data Engineer за 2022 год\n",
    "plt.figure(figsize=(12, 7))\n",
    "ax = sns.boxplot(data[data['job_title'].isin(['Data Scientist', 'Data Engineer']) & data['work_year'].isin([2022])], x='salary_in_usd', y='job_title', orient='h', medianprops={\"color\": \"red\", \"linestyle\": '--'})\n",
    "ax.set(xlabel='Зарплата в USD', ylabel='Название должности')\n",
    "plt.title('Зарплата в USD для Data Scientist и Data Engineer за 2022 год')\n",
    "plt.show()\n"
   ]
  },
  {
   "cell_type": "code",
   "execution_count": 643,
   "metadata": {},
   "outputs": [
    {
     "data": {
      "text/html": [
       "<div>\n",
       "<style scoped>\n",
       "    .dataframe tbody tr th:only-of-type {\n",
       "        vertical-align: middle;\n",
       "    }\n",
       "\n",
       "    .dataframe tbody tr th {\n",
       "        vertical-align: top;\n",
       "    }\n",
       "\n",
       "    .dataframe thead th {\n",
       "        text-align: right;\n",
       "    }\n",
       "</style>\n",
       "<table border=\"1\" class=\"dataframe\">\n",
       "  <thead>\n",
       "    <tr style=\"text-align: right;\">\n",
       "      <th></th>\n",
       "      <th>count</th>\n",
       "      <th>mean</th>\n",
       "      <th>std</th>\n",
       "      <th>min</th>\n",
       "      <th>25%</th>\n",
       "      <th>50%</th>\n",
       "      <th>75%</th>\n",
       "      <th>max</th>\n",
       "    </tr>\n",
       "    <tr>\n",
       "      <th>job_title</th>\n",
       "      <th></th>\n",
       "      <th></th>\n",
       "      <th></th>\n",
       "      <th></th>\n",
       "      <th></th>\n",
       "      <th></th>\n",
       "      <th></th>\n",
       "      <th></th>\n",
       "    </tr>\n",
       "  </thead>\n",
       "  <tbody>\n",
       "    <tr>\n",
       "      <th>Data Engineer</th>\n",
       "      <td>89.0</td>\n",
       "      <td>126375.696629</td>\n",
       "      <td>55954.398677</td>\n",
       "      <td>25000.0</td>\n",
       "      <td>78526.0</td>\n",
       "      <td>120000.0</td>\n",
       "      <td>160000.0</td>\n",
       "      <td>324000.0</td>\n",
       "    </tr>\n",
       "    <tr>\n",
       "      <th>Data Scientist</th>\n",
       "      <td>77.0</td>\n",
       "      <td>136172.090909</td>\n",
       "      <td>54563.084740</td>\n",
       "      <td>18442.0</td>\n",
       "      <td>100000.0</td>\n",
       "      <td>140000.0</td>\n",
       "      <td>176000.0</td>\n",
       "      <td>260000.0</td>\n",
       "    </tr>\n",
       "  </tbody>\n",
       "</table>\n",
       "</div>"
      ],
      "text/plain": [
       "                count           mean           std      min       25%  \\\n",
       "job_title                                                               \n",
       "Data Engineer    89.0  126375.696629  55954.398677  25000.0   78526.0   \n",
       "Data Scientist   77.0  136172.090909  54563.084740  18442.0  100000.0   \n",
       "\n",
       "                     50%       75%       max  \n",
       "job_title                                     \n",
       "Data Engineer   120000.0  160000.0  324000.0  \n",
       "Data Scientist  140000.0  176000.0  260000.0  "
      ]
     },
     "execution_count": 643,
     "metadata": {},
     "output_type": "execute_result"
    }
   ],
   "source": [
    "data[data['job_title'].isin(['Data Scientist', 'Data Engineer']) & data['work_year'].isin([2022])].groupby('job_title')['salary_in_usd'].describe()"
   ]
  },
  {
   "cell_type": "markdown",
   "metadata": {},
   "source": [
    "Судя по данным зарплаты для Data Scientist чуть больше зарплаты Data Engineer за 2022 год. Чтобы определить, так ли это, в следующем разделе мы проведём статистические тесты."
   ]
  },
  {
   "cell_type": "markdown",
   "metadata": {},
   "source": [
    "### Связь между наличием должностей Data Scientist и Data Engineer и размером компании"
   ]
  },
  {
   "cell_type": "code",
   "execution_count": 644,
   "metadata": {},
   "outputs": [
    {
     "data": {
      "image/png": "[encoded data removed]",
      "text/plain": [
       "<Figure size 864x504 with 1 Axes>"
      ]
     },
     "metadata": {},
     "output_type": "display_data"
    }
   ],
   "source": [
    "plt.figure(figsize=(12, 7))\n",
    "ax = sns.countplot(data=data[data['job_title'].isin(['Data Scientist', 'Data Engineer'])], x='company_size', hue='job_title',order=['S','M','L'])\n",
    "ax.set(xlabel='Размер компании', ylabel='Количество')\n",
    "plt.title('Соотношение количества должностей Data Scientist и Data Engineer и размером компании')\n",
    "plt.show()"
   ]
  },
  {
   "cell_type": "code",
   "execution_count": 645,
   "metadata": {},
   "outputs": [
    {
     "data": {
      "image/png": "[encoded data removed]",
      "text/plain": [
       "<Figure size 864x504 with 2 Axes>"
      ]
     },
     "metadata": {},
     "output_type": "display_data"
    }
   ],
   "source": [
    "plt.figure(figsize=(12, 7))\n",
    "cross_tab = pd.crosstab(index=data[data['job_title'].isin(['Data Scientist', 'Data Engineer'])]['company_size'], columns=data['job_title'])\n",
    "ax = sns.heatmap(cross_tab, annot=True, linewidth=.5, fmt='.0f', cmap=\"coolwarm\")\n",
    "ax.set(xlabel='Размер компании', ylabel='Количество')\n",
    "plt.title('Соотношение количества должностей Data Scientist и Data Engineer и размером компании')\n",
    "plt.show()"
   ]
  },
  {
   "cell_type": "markdown",
   "metadata": {},
   "source": [
    "Судя по полученным данным различия между наличием должностей Data Scientist и Data Engineer и размером компании неоднозначны. В маленьких компаниях должность Data Engineer встречается реже, чем  Data Scientist. В средних наоборот Data Engineer встречается чаще. А в крпуных опять чуть реже. Чтобы определить, являются ли эти различия статистически значимыми, в следующем разделе мы проведём статистические тесты."
   ]
  },
  {
   "cell_type": "markdown",
   "metadata": {},
   "source": [
    "### Дополнительный вопрос #1:\n",
    "\n",
    "### Размер заработной платы у специалистов Data Scientist уровня опыта EN, работающих удаленно больше 40000 USD?"
   ]
  },
  {
   "cell_type": "code",
   "execution_count": 646,
   "metadata": {},
   "outputs": [
    {
     "data": {
      "image/png": "[encoded data removed]",
      "text/plain": [
       "<Figure size 864x504 with 1 Axes>"
      ]
     },
     "metadata": {},
     "output_type": "display_data"
    }
   ],
   "source": [
    "plt.figure(figsize=(12, 7))\n",
    "ax = sns.boxplot(data[data['job_title'].isin(['Data Scientist']) & data['remote_ratio'].isin([100]) & data['experience_level'].isin(['EN'])], x='salary_in_usd', y='job_title', orient='h', medianprops={\"color\": \"red\", \"linestyle\": '--'})\n",
    "ax.set(xlabel='Зарплата в USD', ylabel='Название должности')\n",
    "plt.title('Размер заработной платы у специалистов Data Scientist уровня опыта EN, работающих удаленно')\n",
    "plt.show()"
   ]
  },
  {
   "cell_type": "code",
   "execution_count": 647,
   "metadata": {},
   "outputs": [
    {
     "name": "stdout",
     "output_type": "stream",
     "text": [
      "Размер заработной платы у специалистов Data Scientist уровня опыта EN, работающих удаленно\n"
     ]
    },
    {
     "data": {
      "text/html": [
       "<div>\n",
       "<style scoped>\n",
       "    .dataframe tbody tr th:only-of-type {\n",
       "        vertical-align: middle;\n",
       "    }\n",
       "\n",
       "    .dataframe tbody tr th {\n",
       "        vertical-align: top;\n",
       "    }\n",
       "\n",
       "    .dataframe thead th {\n",
       "        text-align: right;\n",
       "    }\n",
       "</style>\n",
       "<table border=\"1\" class=\"dataframe\">\n",
       "  <thead>\n",
       "    <tr style=\"text-align: right;\">\n",
       "      <th></th>\n",
       "      <th>count</th>\n",
       "      <th>mean</th>\n",
       "      <th>std</th>\n",
       "      <th>min</th>\n",
       "      <th>25%</th>\n",
       "      <th>50%</th>\n",
       "      <th>75%</th>\n",
       "      <th>max</th>\n",
       "    </tr>\n",
       "    <tr>\n",
       "      <th>job_title</th>\n",
       "      <th></th>\n",
       "      <th></th>\n",
       "      <th></th>\n",
       "      <th></th>\n",
       "      <th></th>\n",
       "      <th></th>\n",
       "      <th></th>\n",
       "      <th></th>\n",
       "    </tr>\n",
       "  </thead>\n",
       "  <tbody>\n",
       "    <tr>\n",
       "      <th>Data Scientist</th>\n",
       "      <td>9.0</td>\n",
       "      <td>58626.333333</td>\n",
       "      <td>35817.399298</td>\n",
       "      <td>13400.0</td>\n",
       "      <td>28399.0</td>\n",
       "      <td>52396.0</td>\n",
       "      <td>90000.0</td>\n",
       "      <td>105000.0</td>\n",
       "    </tr>\n",
       "  </tbody>\n",
       "</table>\n",
       "</div>"
      ],
      "text/plain": [
       "                count          mean           std      min      25%      50%  \\\n",
       "job_title                                                                      \n",
       "Data Scientist    9.0  58626.333333  35817.399298  13400.0  28399.0  52396.0   \n",
       "\n",
       "                    75%       max  \n",
       "job_title                          \n",
       "Data Scientist  90000.0  105000.0  "
      ]
     },
     "execution_count": 647,
     "metadata": {},
     "output_type": "execute_result"
    }
   ],
   "source": [
    "data_agg = data[data['job_title'].isin(['Data Scientist']) & data['remote_ratio'].isin([100]) & data['experience_level'].isin(['EN'])].groupby('job_title')['salary_in_usd'].describe()\n",
    "\n",
    "# Выводим результат\n",
    "print('Размер заработной платы у специалистов Data Scientist уровня опыта EN, работающих удаленно')\n",
    "data_agg"
   ]
  },
  {
   "cell_type": "markdown",
   "metadata": {},
   "source": [
    "Судя по данным зарплата удаленщиков Data Scientist уровня EN больше 40000 USD. Чтобы определить, так ли это, в следующем разделе мы проведём статистические тесты."
   ]
  },
  {
   "cell_type": "markdown",
   "metadata": {},
   "source": [
    "### Дополнительный вопрос #2:\n",
    "\n",
    "### Есть ли связь между величиной компании и зарплатой для специалистов сферы Data Science уровня EN?"
   ]
  },
  {
   "cell_type": "code",
   "execution_count": 648,
   "metadata": {},
   "outputs": [
    {
     "data": {
      "image/png": "[encoded data removed]",
      "text/plain": [
       "<Figure size 864x504 with 1 Axes>"
      ]
     },
     "metadata": {},
     "output_type": "display_data"
    }
   ],
   "source": [
    "plt.figure(figsize=(12, 7))\n",
    "ax = sns.boxplot(data=data[data['experience_level'].isin(['EN'])], x='salary_in_usd', y='company_size',order=['S','M','L'])\n",
    "ax.set(xlabel='Размер компании', ylabel='Количество')\n",
    "plt.title('Соотношение величины компании и зарплаты для специалистов сферы Data Science уровня EN')\n",
    "plt.show()"
   ]
  },
  {
   "cell_type": "code",
   "execution_count": 649,
   "metadata": {},
   "outputs": [
    {
     "name": "stdout",
     "output_type": "stream",
     "text": [
      "Размер заработной платы специалистов сферы Data Science уровня опыта EN в зависимости от величины компании\n"
     ]
    },
    {
     "data": {
      "text/html": [
       "<div>\n",
       "<style scoped>\n",
       "    .dataframe tbody tr th:only-of-type {\n",
       "        vertical-align: middle;\n",
       "    }\n",
       "\n",
       "    .dataframe tbody tr th {\n",
       "        vertical-align: top;\n",
       "    }\n",
       "\n",
       "    .dataframe thead th {\n",
       "        text-align: right;\n",
       "    }\n",
       "</style>\n",
       "<table border=\"1\" class=\"dataframe\">\n",
       "  <thead>\n",
       "    <tr style=\"text-align: right;\">\n",
       "      <th></th>\n",
       "      <th>count</th>\n",
       "      <th>mean</th>\n",
       "      <th>std</th>\n",
       "      <th>min</th>\n",
       "      <th>25%</th>\n",
       "      <th>50%</th>\n",
       "      <th>75%</th>\n",
       "      <th>max</th>\n",
       "    </tr>\n",
       "    <tr>\n",
       "      <th>company_size</th>\n",
       "      <th></th>\n",
       "      <th></th>\n",
       "      <th></th>\n",
       "      <th></th>\n",
       "      <th></th>\n",
       "      <th></th>\n",
       "      <th></th>\n",
       "      <th></th>\n",
       "    </tr>\n",
       "  </thead>\n",
       "  <tbody>\n",
       "    <tr>\n",
       "      <th>L</th>\n",
       "      <td>29.0</td>\n",
       "      <td>72813.241379</td>\n",
       "      <td>54824.561015</td>\n",
       "      <td>5882.0</td>\n",
       "      <td>37300.00</td>\n",
       "      <td>63831.0</td>\n",
       "      <td>91000.0</td>\n",
       "      <td>250000.0</td>\n",
       "    </tr>\n",
       "    <tr>\n",
       "      <th>M</th>\n",
       "      <td>30.0</td>\n",
       "      <td>50321.800000</td>\n",
       "      <td>33975.409445</td>\n",
       "      <td>4000.0</td>\n",
       "      <td>21688.75</td>\n",
       "      <td>49823.0</td>\n",
       "      <td>69250.0</td>\n",
       "      <td>125000.0</td>\n",
       "    </tr>\n",
       "    <tr>\n",
       "      <th>S</th>\n",
       "      <td>29.0</td>\n",
       "      <td>62185.310345</td>\n",
       "      <td>40693.000927</td>\n",
       "      <td>6072.0</td>\n",
       "      <td>21669.00</td>\n",
       "      <td>60000.0</td>\n",
       "      <td>90000.0</td>\n",
       "      <td>150000.0</td>\n",
       "    </tr>\n",
       "  </tbody>\n",
       "</table>\n",
       "</div>"
      ],
      "text/plain": [
       "              count          mean           std     min       25%      50%  \\\n",
       "company_size                                                                 \n",
       "L              29.0  72813.241379  54824.561015  5882.0  37300.00  63831.0   \n",
       "M              30.0  50321.800000  33975.409445  4000.0  21688.75  49823.0   \n",
       "S              29.0  62185.310345  40693.000927  6072.0  21669.00  60000.0   \n",
       "\n",
       "                  75%       max  \n",
       "company_size                     \n",
       "L             91000.0  250000.0  \n",
       "M             69250.0  125000.0  \n",
       "S             90000.0  150000.0  "
      ]
     },
     "execution_count": 649,
     "metadata": {},
     "output_type": "execute_result"
    }
   ],
   "source": [
    "data_agg = data[data['experience_level'].isin(['EN'])].groupby('company_size')['salary_in_usd'].describe()\n",
    "\n",
    "# Выводим результат\n",
    "print('Размер заработной платы специалистов сферы Data Science уровня опыта EN в зависимости от величины компании')\n",
    "data_agg"
   ]
  },
  {
   "cell_type": "markdown",
   "metadata": {},
   "source": [
    "Судя по данным зарплаты различаются в зависимости от величины компании для специалистов сферы Data Science уровня EN. Чтобы определить, так ли это, в следующем разделе мы проведём статистические тесты."
   ]
  },
  {
   "cell_type": "markdown",
   "metadata": {},
   "source": [
    "## Статистический анализ данных\n",
    "\n",
    "\n"
   ]
  },
  {
   "cell_type": "code",
   "execution_count": 650,
   "metadata": {},
   "outputs": [],
   "source": [
    "# функция для принятия решения о нормальности\n",
    "def decision_normality(p):\n",
    "    print('p-value = {:.3f}'.format(p))\n",
    "    if p <= alpha:\n",
    "        print('p-значение меньше, чем заданный уровень значимости {:.2f}. Распределение отлично от нормального'.format(alpha))\n",
    "    else:\n",
    "        print('p-значение больше, чем заданный уровень значимости {:.2f}. Распределение является нормальным'.format(alpha))\n",
    "\n",
    "\n",
    "# функция для принятия решения об отклонении нулевой гипотезы\n",
    "def decision_hypothesis(p):\n",
    "    print('p-value = {:.3f}'.format(p))\n",
    "    if p <= alpha:\n",
    "        print('p-значение меньше, чем заданный уровень значимости {:.2f}. Отвергаем нулевую гипотезу в пользу альтернативной.'.format(alpha))\n",
    "    else:\n",
    "        print('p-значение больше, чем заданный уровень значимости {:.2f}. У нас нет оснований отвергнуть нулевую гипотезу.'.format(alpha))\n",
    "      "
   ]
  },
  {
   "cell_type": "markdown",
   "metadata": {},
   "source": [
    "### Наблюдается ли ежегодный рост зарплат у специалистов Data Scientist?\n",
    "\n",
    "**Сначала сравним 2020 и 2021 год**\n",
    "\n",
    "**Сформулируем нулевую и альтернативные гипотезы**\n",
    "\n",
    "*Нулевая гипотеза* ($H_0$): размер зарплаты за 2021 ($μ_1$) статистически меньше либо равен размеру зарплаты за 2020($μ_2$).\n",
    "\n",
    "$$ H_0 : μ_1 <= μ_2$$\n",
    "\n",
    "*Альтернативная гипотеза* ($H_1$):  размер зарплаты за 2021 ($μ_1$) статистически больше размера зарплаты за 2020($μ_2$)\n",
    "\n",
    "$$ H_1 : μ_1 > μ_2$$"
   ]
  },
  {
   "cell_type": "markdown",
   "metadata": {},
   "source": [
    "**Проверка на нормальность**\n",
    "\n",
    "С помощью теста Шапиро-Уилка проверим, распределён ли признак нормально. Напомним гипотезы теста Шапиро-Уилка:\n",
    "\n",
    "*Нулевая гипотеза* ($H_0$): распределение данные является нормальным.\n",
    "\n",
    "*Альтернативная гипотеза* ($H_1$): распределение данных отлично от нормального."
   ]
  },
  {
   "cell_type": "code",
   "execution_count": 651,
   "metadata": {},
   "outputs": [
    {
     "name": "stdout",
     "output_type": "stream",
     "text": [
      "2020:\n",
      "p-value = 0.000\n",
      "p-значение меньше, чем заданный уровень значимости 0.05. Распределение отлично от нормального\n",
      "2021:\n",
      "p-value = 0.125\n",
      "p-значение больше, чем заданный уровень значимости 0.05. Распределение является нормальным\n",
      "2022:\n",
      "p-value = 0.327\n",
      "p-значение больше, чем заданный уровень значимости 0.05. Распределение является нормальным\n"
     ]
    }
   ],
   "source": [
    "# значения страховых выплат\n",
    "salary_2020 = data[data['job_title']=='Data Scientist'].loc[data['work_year']==2020, 'salary_in_usd']\n",
    "salary_2021 = data[data['job_title']=='Data Scientist'].loc[data['work_year']==2021, 'salary_in_usd']\n",
    "salary_2022 = data[data['job_title']=='Data Scientist'].loc[data['work_year']==2022, 'salary_in_usd']\n",
    "\n",
    "# проводим тест Шапиро-Уилка\n",
    "print('2020:')\n",
    "result = stats.shapiro(salary_2020)\n",
    "decision_normality(result[1])\n",
    "\n",
    "print('2021:')\n",
    "result = stats.shapiro(salary_2021)\n",
    "decision_normality(result[1])\n",
    "\n",
    "print('2022:')\n",
    "result = stats.shapiro(salary_2022)\n",
    "decision_normality(result[1])\n"
   ]
  },
  {
   "cell_type": "markdown",
   "metadata": {},
   "source": [
    "**Выберем подходящий статистический тест**\n",
    "\n",
    "Для выбора нужного теста воспользуемся алгоритмом выбора теста. Для этого ответим на следующие вопросы:\n",
    "* Какой тип у признака «Зарплата в долларах США»? — Количественный.\n",
    "* Сколько сравниваемых групп? — Две.\n",
    "* Группы зависимы? — Нет.\n",
    "* Признак распределён по нормальному закону? — Нет.\n",
    "\n",
    "Чтобы проверить нашу гипотезу, можно использовать U-критерий Манна — Уитни.\n",
    "\n",
    "**Проведём тест**"
   ]
  },
  {
   "cell_type": "code",
   "execution_count": 652,
   "metadata": {},
   "outputs": [
    {
     "name": "stdout",
     "output_type": "stream",
     "text": [
      "p-value = 0.685\n",
      "p-значение больше, чем заданный уровень значимости 0.05. У нас нет оснований отвергнуть нулевую гипотезу.\n"
     ]
    }
   ],
   "source": [
    "\n",
    "_, p = stats.mannwhitneyu(salary_2021, salary_2020, alternative='greater')\n",
    "decision_hypothesis(p)\n"
   ]
  },
  {
   "cell_type": "markdown",
   "metadata": {},
   "source": [
    "**Теперь сравним 2021 и 2022 год**\n",
    "\n",
    "**Сформулируем нулевую и альтернативные гипотезы**\n",
    "\n",
    "*Нулевая гипотеза* ($H_0$): размер зарплаты за 2022 ($μ_1$) статистически меньше либо равен размеру зарплаты за 2021($μ_2$).\n",
    "\n",
    "$$ H_0 : μ_1 <= μ_2$$\n",
    "\n",
    "*Альтернативная гипотеза* ($H_1$):  размер зарплаты за 2022 ($μ_1$) статистически больше размера зарплаты за 2021($μ_2$)\n",
    "\n",
    "$$ H_1 : μ_1 > μ_2$$"
   ]
  },
  {
   "cell_type": "markdown",
   "metadata": {},
   "source": [
    "**Выберем подходящий статистический тест**\n",
    "\n",
    "Для выбора нужного теста воспользуемся алгоритмом выбора теста. Для этого ответим на следующие вопросы:\n",
    "* Какой тип у признака «Зарплата в долларах США»? — Количественный.\n",
    "* Сколько сравниваемых групп? — Две.\n",
    "* Группы зависимы? — Нет.\n",
    "* Признак распределён по нормальному закону? — Да.\n",
    "\n",
    "Чтобы проверить нашу гипотезу, можно использовать двухвыборочный t-критерий.\n",
    "\n",
    "**Проведём тест**"
   ]
  },
  {
   "cell_type": "code",
   "execution_count": 653,
   "metadata": {},
   "outputs": [
    {
     "name": "stdout",
     "output_type": "stream",
     "text": [
      "Тест на равенство дисперсий\n",
      "Дисперсии одинаковы, в stats.ttest_ind нужно использовать параметр equal_var=True.\n",
      "\n",
      "Тест на равенство средних\n",
      "p-value = 0.000\n",
      "p-значение меньше, чем заданный уровень значимости 0.05. Отвергаем нулевую гипотезу в пользу альтернативной.\n"
     ]
    }
   ],
   "source": [
    "\n",
    "# проведем такой же тест для 2021 года и 2022 года\n",
    "_, p = stats.ttest_ind(salary_2022, salary_2021, alternative='greater', equal_var=True)\n",
    "\n",
    "print('Тест на равенство дисперсий')\n",
    "result = stats.levene(salary_2022, salary_2021)\n",
    "p = result[1]\n",
    "# интерпретируем результат\n",
    "if p <= alpha:\n",
    "    print('Дисперсии не одинаковы, в stats.ttest_ind нужно использовать параметр equal_var=False.')\n",
    "else:\n",
    "    print('Дисперсии одинаковы, в stats.ttest_ind нужно использовать параметр equal_var=True.')\n",
    "    \n",
    "# проводим тест на сравнение средних в группах\n",
    "print('\\nТест на равенство средних')\n",
    "_, p = stats.ttest_ind(salary_2022, salary_2021, alternative='greater', equal_var=True)\n",
    "decision_hypothesis(p)"
   ]
  },
  {
   "cell_type": "markdown",
   "metadata": {},
   "source": [
    "**Вывод**\n",
    "\n",
    "С 2020 по 2021 размер зарплат у специалистов Data Scientist не вырос. Но с 2021 по 2022 размер зарплат увеличился."
   ]
  },
  {
   "cell_type": "markdown",
   "metadata": {},
   "source": [
    "### Была ли зарплата специалистов Data Scientist больше, чем запрплата специлистов Data Engineer в 2022 году?"
   ]
  },
  {
   "cell_type": "markdown",
   "metadata": {},
   "source": [
    "**Сформулируем нулевую и альтернативные гипотезы**\n",
    "\n",
    "*Нулевая гипотеза*: размер зарплат Data Scientist ($μ_1$) меньше или равен зарплате Data Engineer ($μ_2$) в 2022 году .\n",
    "$$ H_0 : μ_1 <= μ_2$$\n",
    "\n",
    "*Альтернативная гипотеза*: размер зарплат Data Scientist ($μ_1$) больше чем зарплата Data Engineer ($μ_2$) за 2022 год.\n",
    "$$ H_1 : μ_1 > μ_2 $$"
   ]
  },
  {
   "cell_type": "markdown",
   "metadata": {},
   "source": [
    "**Проверка на нормальность**\n",
    "\n",
    "С помощью теста Шапиро-Уилка проверим, распределён ли признак нормально."
   ]
  },
  {
   "cell_type": "code",
   "execution_count": 654,
   "metadata": {},
   "outputs": [
    {
     "name": "stdout",
     "output_type": "stream",
     "text": [
      "Зарплата у Data Scientist:\n",
      "p-value = 0.327\n",
      "p-значение больше, чем заданный уровень значимости 0.05. Распределение является нормальным\n",
      "Зарплата у Data Engineer:\n",
      "p-value = 0.010\n",
      "p-значение меньше, чем заданный уровень значимости 0.05. Распределение отлично от нормального\n"
     ]
    }
   ],
   "source": [
    "# значения зарплат\n",
    "ds_salary = data[data['work_year']==2022].loc[data['job_title']=='Data Scientist', 'salary_in_usd']\n",
    "eng_salary = data[data['work_year']==2022].loc[data['job_title']=='Data Engineer', 'salary_in_usd']\n",
    "\n",
    "\n",
    "# проводим тест Шапиро-Уилка\n",
    "print('Зарплата у Data Scientist:')\n",
    "result = stats.shapiro(ds_salary)\n",
    "decision_normality(result[1])\n",
    "\n",
    "print('Зарплата у Data Engineer:')\n",
    "result = stats.shapiro(eng_salary)\n",
    "decision_normality(result[1])\n",
    "\n"
   ]
  },
  {
   "cell_type": "markdown",
   "metadata": {},
   "source": [
    "**Выберем подходящий статистический тест**\n",
    "\n",
    "Для выбора нужного теста воспользуемся алгоритмом выбора теста. Для этого ответим на следующие вопросы:\n",
    "* Какой тип у признака «salary_in_usd» (зарплата в долларах США)? — Количественный.\n",
    "* Сколько сравниваемых групп? — 2.\n",
    "* Группы зависимы? — Нет.\n",
    "* Признак распределён по нормальному закону? — Нет. \n",
    "\n",
    "Для проверки нашей гипотезы можно использовать критерий U-критерий Манна — Уитни.\n",
    "\n",
    "**Проведём тест**"
   ]
  },
  {
   "cell_type": "code",
   "execution_count": 655,
   "metadata": {},
   "outputs": [
    {
     "name": "stdout",
     "output_type": "stream",
     "text": [
      "p-value = 0.077\n",
      "p-значение больше, чем заданный уровень значимости 0.05. У нас нет оснований отвергнуть нулевую гипотезу.\n"
     ]
    }
   ],
   "source": [
    "# проводим тест\n",
    "_, p = stats.mannwhitneyu(ds_salary, eng_salary,alternative='greater')\n",
    "decision_hypothesis(p)"
   ]
  },
  {
   "cell_type": "markdown",
   "metadata": {},
   "source": [
    "**Вывод**\n",
    "\n",
    "Размер зарплат специалистов Data Scientist не была больше зарплат специалистов Data Engineer в 2022 году."
   ]
  },
  {
   "cell_type": "markdown",
   "metadata": {},
   "source": [
    "### Есть ли связь между наличием должностей Data Scientist и Data Engineer и размером компании?"
   ]
  },
  {
   "cell_type": "markdown",
   "metadata": {},
   "source": [
    "**Сформулируем нулевую и альтернативные гипотезы**\n",
    "\n",
    "*Нулевая гипотеза*: между наличием должностей Data Scientist и Data Engineer и размером компании нет взаимосвязи (признаки независимы).\n",
    "\n",
    "*Альтернативная гипотеза*: между наличием должностей Data Scientist и Data Engineer и размером компании есть взаимосвязь(признаки зависимы)."
   ]
  },
  {
   "cell_type": "markdown",
   "metadata": {},
   "source": [
    "**Выберем подходящий статистический тест**\n",
    "\n",
    "Для выбора нужного теста воспользуемся алгоритмом выбора теста. Для этого ответим на следующие вопросы:\n",
    "* Какой тип у признака «job_titlee» (название должности)? — Категориальный.\n",
    "* Проверяется независимость групп? — Да.\n",
    "\n",
    "Для проверки нашей гипотезы можно использовать критерий ${\\chi}^2$ (хи-квадрат).\n",
    "\n",
    "**Проведём тест**"
   ]
  },
  {
   "cell_type": "code",
   "execution_count": 656,
   "metadata": {},
   "outputs": [
    {
     "data": {
      "text/html": [
       "<div>\n",
       "<style scoped>\n",
       "    .dataframe tbody tr th:only-of-type {\n",
       "        vertical-align: middle;\n",
       "    }\n",
       "\n",
       "    .dataframe tbody tr th {\n",
       "        vertical-align: top;\n",
       "    }\n",
       "\n",
       "    .dataframe thead th {\n",
       "        text-align: right;\n",
       "    }\n",
       "</style>\n",
       "<table border=\"1\" class=\"dataframe\">\n",
       "  <thead>\n",
       "    <tr style=\"text-align: right;\">\n",
       "      <th>company_size</th>\n",
       "      <th>L</th>\n",
       "      <th>M</th>\n",
       "      <th>S</th>\n",
       "    </tr>\n",
       "    <tr>\n",
       "      <th>job_title</th>\n",
       "      <th></th>\n",
       "      <th></th>\n",
       "      <th></th>\n",
       "    </tr>\n",
       "  </thead>\n",
       "  <tbody>\n",
       "    <tr>\n",
       "      <th>Data Engineer</th>\n",
       "      <td>37</td>\n",
       "      <td>89</td>\n",
       "      <td>6</td>\n",
       "    </tr>\n",
       "    <tr>\n",
       "      <th>Data Scientist</th>\n",
       "      <td>45</td>\n",
       "      <td>77</td>\n",
       "      <td>21</td>\n",
       "    </tr>\n",
       "  </tbody>\n",
       "</table>\n",
       "</div>"
      ],
      "text/plain": [
       "company_size     L   M   S\n",
       "job_title                 \n",
       "Data Engineer   37  89   6\n",
       "Data Scientist  45  77  21"
      ]
     },
     "metadata": {},
     "output_type": "display_data"
    },
    {
     "name": "stdout",
     "output_type": "stream",
     "text": [
      "p-value = 0.008\n",
      "p-значение меньше, чем заданный уровень значимости 0.05. Отвергаем нулевую гипотезу в пользу альтернативной.\n"
     ]
    }
   ],
   "source": [
    "# составляем таблицу сопряжённости\n",
    "table = pd.crosstab(data[data['job_title'].isin(['Data Scientist', 'Data Engineer'])]['job_title'],data['company_size'] )\n",
    "\n",
    "display(table)\n",
    "# проводим тест\n",
    "_, p, _, _ = stats.chi2_contingency(table)\n",
    "\n",
    "decision_hypothesis(p)"
   ]
  },
  {
   "cell_type": "markdown",
   "metadata": {},
   "source": [
    "Сущесвтует статистически значимая взаимосвязь между наличием должностей Data Scientist и Data Engineer и размером компании."
   ]
  },
  {
   "cell_type": "markdown",
   "metadata": {},
   "source": [
    "### Дополнилеьные вопросы:\n",
    "\n",
    "### Размер заработной платы у специалистов Data Scientist уровня опыта EN, работающих удаленно больше 40000 USD?"
   ]
  },
  {
   "cell_type": "markdown",
   "metadata": {},
   "source": [
    "**Сформулируем нулевую и альтернативные гипотезы**\n",
    "\n",
    "*Нулевая гипотеза*: Размер заработной платы у специалистов Data Scientist  уровня опыта EN ($μ_1$) меньше или равен 40000 \n",
    "$$ H_0 : μ_1 <= 40000 $$\n",
    "\n",
    "*Альтернативная гипотеза*: Размер заработной платы у специалистов Data Scientist  уровня опыта EN ($μ_1$) больше 40000 \n",
    "$$ H_1 : μ_1 > 40000 $$"
   ]
  },
  {
   "cell_type": "markdown",
   "metadata": {},
   "source": [
    "**Проверка на нормальность**\n",
    "\n",
    "С помощью теста Шапиро-Уилка проверим, распределён ли признак нормально."
   ]
  },
  {
   "cell_type": "code",
   "execution_count": 657,
   "metadata": {},
   "outputs": [
    {
     "name": "stdout",
     "output_type": "stream",
     "text": [
      "Зарплата у Data Scientist:\n",
      "p-value = 0.283\n",
      "p-значение больше, чем заданный уровень значимости 0.05. Распределение является нормальным\n"
     ]
    }
   ],
   "source": [
    "# значения зарплат\n",
    "ds_en_salary = data[data['remote_ratio'].isin([100]) & data['experience_level'].isin(['EN'])].loc[data['job_title']=='Data Scientist', 'salary_in_usd']\n",
    "\n",
    "\n",
    "\n",
    "# проводим тест Шапиро-Уилка\n",
    "print('Зарплата у Data Scientist:')\n",
    "result = stats.shapiro(ds_en_salary)\n",
    "decision_normality(result[1])\n",
    "\n"
   ]
  },
  {
   "cell_type": "markdown",
   "metadata": {},
   "source": [
    "**Выберем подходящий статистический тест**\n",
    "\n",
    "Для выбора нужного теста воспользуемся алгоритмом выбора теста. Для этого ответим на следующие вопросы:\n",
    "* Какой тип у признака «salary_in_usd» (зарплата в долларах США)? — Количественный.\n",
    "* Сколько сравниваемых групп? — 1.\n",
    "* Признак распределён по нормальному закону? — Да. \n",
    "\n",
    "Для проверки нашей гипотезы можно использовать одновыборочный t-критерий.\n",
    "\n",
    "**Проведём тест**"
   ]
  },
  {
   "cell_type": "code",
   "execution_count": 658,
   "metadata": {},
   "outputs": [
    {
     "name": "stdout",
     "output_type": "stream",
     "text": [
      "p-value = 0.079\n",
      "p-значение больше, чем заданный уровень значимости 0.05. У нас нет оснований отвергнуть нулевую гипотезу.\n"
     ]
    }
   ],
   "source": [
    "# проводим тест\n",
    "_, p = stats.ttest_1samp(ds_en_salary, popmean=40000, alternative='greater')\n",
    "decision_hypothesis(p)\n"
   ]
  },
  {
   "cell_type": "markdown",
   "metadata": {},
   "source": [
    "**Вывод**\n",
    "\n",
    "Нет оснований утверждать, что заработная плата для специалистов сферы Data Scientist уровня опыта EN, работающих удаленно больше 40000 USD."
   ]
  },
  {
   "cell_type": "markdown",
   "metadata": {},
   "source": [
    "### Есть ли связь между величиной компании и зарплатой для специалистов сферы Data Science уровня EN?\n",
    "\n",
    "**Сформулируем нулевую и альтернативные гипотезы**\n",
    "\n",
    "*Нулевая гипотеза*: размер заработной платы для специалистов уровня EN не отличиается в зависимости от величины компании : S ($μ_1$), M ($μ_2$), L ($μ_3$).\n",
    "\n",
    "$$ H_0 : μ_1 = μ_2 = μ_3 $$\n",
    "\n",
    "*Альтернативная гипотеза*: размер заработной платы для специалистов уровня EN отличиается в зависимости от величины компании : S ($μ_1$), M ($μ_2$), L ($μ_3$).\n",
    "\n",
    "$$ H_1 : μ_1 \\neq μ_2 \\neq μ_3 $$\n",
    "\n"
   ]
  },
  {
   "cell_type": "markdown",
   "metadata": {},
   "source": [
    "**Проверка на нормальность**\n",
    "\n",
    "С помощью теста Шапиро-Уилка проверим, распределён ли признак нормально."
   ]
  },
  {
   "cell_type": "code",
   "execution_count": 659,
   "metadata": {},
   "outputs": [
    {
     "name": "stdout",
     "output_type": "stream",
     "text": [
      "Для S:\n",
      "p-value = 0.174\n",
      "p-значение больше, чем заданный уровень значимости 0.05. Распределение является нормальным\n",
      "Для M:\n",
      "p-value = 0.122\n",
      "p-значение больше, чем заданный уровень значимости 0.05. Распределение является нормальным\n",
      "Для L:\n",
      "p-value = 0.000\n",
      "p-значение меньше, чем заданный уровень значимости 0.05. Распределение отлично от нормального\n"
     ]
    }
   ],
   "source": [
    "# значения зарплат\n",
    "salary_S = data[data['experience_level'].isin(['EN'])].loc[data['company_size']=='S', 'salary_in_usd']\n",
    "salary_M= data[data['experience_level'].isin(['EN'])].loc[data['company_size']=='M', 'salary_in_usd']\n",
    "salary_L = data[data['experience_level'].isin(['EN'])].loc[data['company_size']=='L', 'salary_in_usd']\n",
    "\n",
    "\n",
    "# проводим тест Шапиро-Уилка\n",
    "print('Для S:')\n",
    "result = stats.shapiro(salary_S)\n",
    "decision_normality(result[1])\n",
    "\n",
    "print('Для M:')\n",
    "result = stats.shapiro(salary_M)\n",
    "decision_normality(result[1])\n",
    "\n",
    "print('Для L:')\n",
    "result = stats.shapiro(salary_L)\n",
    "decision_normality(result[1])\n",
    "\n"
   ]
  },
  {
   "cell_type": "markdown",
   "metadata": {},
   "source": [
    "**Выберем подходящий статистический тест**\n",
    "\n",
    "Для выбора нужного теста воспользуемся алгоритмом выбора теста. Для этого ответим на следующие вопросы:\n",
    "* Какой тип у признака «salary_in_usd» (зарплата в долларах США)? — Количественный.\n",
    "* Сколько сравниваемых групп? — 3.\n",
    "* Группы зависимы? — Нет.\n",
    "* Признак распределён по нормальному закону? — Нет. \n",
    "\n",
    "Для проверки нашей гипотезы можно использовать критерий Краскела — Уоллиса.\n",
    "\n",
    "**Проведём тест**"
   ]
  },
  {
   "cell_type": "code",
   "execution_count": 660,
   "metadata": {},
   "outputs": [
    {
     "name": "stdout",
     "output_type": "stream",
     "text": [
      "p-value = 0.227\n",
      "p-значение больше, чем заданный уровень значимости 0.05. У нас нет оснований отвергнуть нулевую гипотезу.\n"
     ]
    }
   ],
   "source": [
    "_, p = stats.kruskal(salary_S, salary_M, salary_L)\n",
    "decision_hypothesis(p)"
   ]
  },
  {
   "cell_type": "markdown",
   "metadata": {},
   "source": [
    "**Вывод**\n",
    "\n",
    "Нет оснований утверждать, что заработная плата для специалистов сферы Data Science уровня EN различается в зависимости от величины компании."
   ]
  },
  {
   "cell_type": "markdown",
   "metadata": {},
   "source": [
    "## Итоговые результаты исследования\n",
    "\n",
    "*   Каждый год рост зарплат специалистов Data Scientist не наблюдается. С 2020 по 2021 размер зарплат не вырос. Но с 2021 по 2022 размер зарплат уже увеличился.\n",
    "*   Факторы влияющие на уровень зарплаты:\n",
    "   1) Уровень опыта. Чем выше уровень, тем выше ЗП. \n",
    "   2) Страна главного офиса работодателя или филиала по контракту.\n",
    "   3) Основная страна проживания сотрудника в течение рабочего года\n",
    "   4) Общий объём работы, выполняемой удалённо\n",
    "   5) Величина компании.\n",
    "*   Размер зарплат специалистов Data Scientist не была больше зарплат специалистов Data Engineer в 2022 году.\n",
    "*   Существует статистически значимая взаимосвязь между наличием должностей Data Scientist и Data Engineer и размером компании.\n",
    "*   Нет оснований утверждать, что заработная плата для специалистов сферы Data Scientist уровня опыта EN, работающих удаленно больше 40000 USD.\n",
    "*   Размер компании не влияет на величину зарплаты для специалистов сферы Data Science уровня опыта EN."
   ]
  }
 ],
 "metadata": {
  "kernelspec": {
   "display_name": "Python 3.10.5 64-bit",
   "language": "python",
   "name": "python3"
  },
  "language_info": {
   "codemirror_mode": {
    "name": "ipython",
    "version": 3
   },
   "file_extension": ".py",
   "mimetype": "text/x-python",
   "name": "python",
   "nbconvert_exporter": "python",
   "pygments_lexer": "ipython3",
   "version": "3.10.5"
  },
  "orig_nbformat": 4,
  "vscode": {
   "interpreter": {
    "hash": "fb4569285eef3a3450cb62085a5b1e0da4bce0af555edc33dcf29baf3acc1368"
   }
  }
 },
 "nbformat": 4,
 "nbformat_minor": 2
}
