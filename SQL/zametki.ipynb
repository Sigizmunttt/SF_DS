{
 "cells": [
  {
   "cell_type": "markdown",
   "metadata": {},
   "source": [
    "                              ОСНОВНЫЕ ЗАПРОСЫ К БД"
   ]
  },
  {
   "cell_type": "code",
   "execution_count": null,
   "metadata": {},
   "outputs": [],
   "source": [
    "SELECT DISTINCT (DISTINCT - уникальные значения)\n",
    "    столбец1 AS новое_название,\n",
    "    столбец2,\n",
    "    столбец3\n",
    "FROM таблица\n",
    "WHERE (условие1 OR условие2)\n",
    "    AND условие3\n",
    "    AND столбец1 LIKE \"A%\" в названии в начале присутствует А, % - все остальное\n",
    "    AND year NOT BETWEEN 1965 AND 1980 между\n",
    "    AND like '____________' означает любоей символ вместо \"_\"\n",
    "ORDER BY сортировка1, сортировка2 DESC - обратная сортировка\n",
    "OFFSET 1 LIMIT 2"
   ]
  },
  {
   "cell_type": "markdown",
   "metadata": {},
   "source": [
    "                             ОСНОВНЫЕ АГРЕГАТНЫЕ ФУНКЦИИ"
   ]
  },
  {
   "cell_type": "code",
   "execution_count": null,
   "metadata": {},
   "outputs": [],
   "source": [
    "SELECT\n",
    "    COUNT(*)\n",
    "FROM sql.pokemon\n",
    "\n",
    "COUNT — вычисляет число непустых строк;\n",
    "SUM — вычисляет сумму;\n",
    "AVG — вычисляет среднее;\n",
    "MAX — вычисляет максимум;\n",
    "MIN — вычисляет минимум.\n",
    "Внутри функции COUNT мы можем также применять DISTINCT, чтобы вычислить количество уникальных значений.\n",
    "SELECT\n",
    "    COUNT(DISTINCT type1)\n",
    "FROM sql.pokemon"
   ]
  },
  {
   "cell_type": "markdown",
   "metadata": {},
   "source": [
    "                     GROUP BY группировка"
   ]
  },
  {
   "cell_type": "code",
   "execution_count": null,
   "metadata": {},
   "outputs": [],
   "source": [
    "SELECT\n",
    "    type1 AS pokemon_type,\n",
    "    COUNT(*) AS pokemon_count\n",
    "FROM sql.pokemon\n",
    "GROUP BY pokemon_type\n",
    "ORDER BY COUNT(*) DESC"
   ]
  },
  {
   "cell_type": "markdown",
   "metadata": {},
   "source": [
    "                       HAVING Фильтрация уже агрегированных данных. Важно! HAVING обязательно пишется после GROUP BY.\n",
    "\n"
   ]
  },
  {
   "cell_type": "markdown",
   "metadata": {},
   "source": [
    "                                 Объединение таблиц по столбцу"
   ]
  },
  {
   "cell_type": "code",
   "execution_count": null,
   "metadata": {},
   "outputs": [],
   "source": [
    "SELECT \n",
    "    long_name,\n",
    "    home_team_goals,\n",
    "    away_team_goals\n",
    "FROM\n",
    "    sql.teams,\n",
    "    sql.matches\n",
    "WHERE home_team_api_id = api_id"
   ]
  },
  {
   "cell_type": "markdown",
   "metadata": {},
   "source": [
    "                            Объединение таблиц через Join"
   ]
  },
  {
   "cell_type": "code",
   "execution_count": null,
   "metadata": {},
   "outputs": [],
   "source": [
    "SELECT \n",
    "    long_name,\n",
    "    home_team_goals,\n",
    "    away_team_goals\n",
    "FROM    \n",
    "    sql.teams\n",
    "JOIN sql.matches on home_team_api_id = api_id"
   ]
  },
  {
   "cell_type": "markdown",
   "metadata": {},
   "source": [
    "                             Переименовываем таблицы"
   ]
  },
  {
   "cell_type": "code",
   "execution_count": null,
   "metadata": {},
   "outputs": [],
   "source": [
    "SELECT\n",
    "    столбец1 новое_название_столбца,\n",
    "\tстолбец2 новое_название_столбца,\n",
    "\t...\n",
    "FROM\n",
    "\tтаблица1 короткое_название_1\n",
    "JOIN таблица2 короткое_название_2 ON условие\n",
    "\n",
    "SELECT\n",
    "    m.id match_id,\n",
    "    t.id team_id\n",
    "FROM\n",
    "    sql.matches m\n",
    "    join sql.teams t on t.api_id = m.home_team_api_id\n",
    "ORDER BY 1"
   ]
  },
  {
   "cell_type": "markdown",
   "metadata": {},
   "source": [
    "                                          ОБЪЕДИНЕНИЕ ТАБЛИЦ"
   ]
  },
  {
   "cell_type": "code",
   "execution_count": null,
   "metadata": {},
   "outputs": [],
   "source": [
    "#LEFT:\n",
    "SELECT\n",
    "    t.long_name /*столбец long_name таблицы t*/\n",
    "FROM sql.teams t /*таблица teams с алиасом t*/\n",
    "LEFT JOIN sql.matches m ON t.api_id = m.home_team_api_id OR t.api_id = m.away_team_api_id /*оператор соединения left JOIN; таблица matches с алиасом m; условие: home_team_api_id таблицы m равен api_id таблицы t или away_team_api_id таблицы m равен api_id таблицы t*/\n",
    "WHERE\n",
    "    m.season = '2008/2009'  /*условие: столбец season таблицы m имеет значение 2008/2009*/\n",
    "AND t.long_name = 'KAS Eupen' /*условие: столбец long_name таблицы t имеет значение KAS Eupen*/\n",
    "\n",
    "----------------\n",
    "\n",
    "#FULL OUTER JOIN:\n",
    "Оператор FULL OUTER JOIN объединяет в себе LEFT и RIGHT JOIN и позволяет сохранить кортежи обеих таблиц. Даже если не будет соответствий, мы сохраним все записи из обеих таблиц.\n",
    "Пример: в базе данных интернет-магазина есть две таблицы — с зарегистрированными пользователями и пользователями, оформившими заказ. При этом оформить заказ можно без регистрации,\n",
    "а зарегистрироваться — без оформления заказа.\n",
    "SELECT \n",
    "…\n",
    "FROM\n",
    "\ttable1\n",
    "FULL OUTER JOIN table2 ON условие\n",
    "\n",
    "-----------------\n",
    "\n",
    "#CROSS JOIN:\n",
    "SELECT *\n",
    "FROM\n",
    "    sql.teams,\n",
    "    sql.matches\n",
    "\n",
    "!SAME!\n",
    "\n",
    "SELECT *\n",
    "FROM\n",
    "    sql.teams\n",
    "    CROSS JOIN sql.matches\n",
    "\n",
    "!SAME!\n",
    "\n",
    "SELECT *\n",
    "FROM\n",
    "    sql.teams\n",
    "    JOIN sql.matches ON TRUE\n",
    "    \n",
    "--------------------------\n",
    "\n",
    "#NATRUAL JOIN:\n",
    "Ключевое слово natural в начале оператора JOIN позволяет не указывать условие соединения таблиц — для соединения будут использованы столбцы с одинаковым названием из этих таблиц.\n",
    "\n",
    "NATURAL JOIN можно использовать с любыми видами соединений, которые требуют условия соединения:\n",
    "\n",
    "→ NATURAL INNER JOIN (возможна запись NATURAL JOIN);\n",
    "→ NATURAL LEFT JOIN;\n",
    "→ NATURAL RIGHT JOIN;\n",
    "→ NATURAL FULL OUTER JOIN.\n",
    "\n",
    "При использовании NATURAL JOIN прежде всего стоит обратить внимание на ключи таблиц. Для наших таблиц teams и matches этот вид соединения не подойдёт, \n",
    "так как общим для обеих таблиц является столбец id, но таблицы соединяются по другим столбцам."
   ]
  },
  {
   "cell_type": "markdown",
   "metadata": {},
   "source": [
    "                                 UNION"
   ]
  },
  {
   "cell_type": "code",
   "execution_count": null,
   "metadata": {},
   "outputs": [],
   "source": [
    "(SELECT book_name object_name, 'книга' object_descritption \n",
    "FROM public.books\n",
    "ORDER BY 1\n",
    "LIMIT 1)\n",
    "UNION ALL\n",
    "(SELECT movie_title, 'фильм' \n",
    "FROM sql.kinopoisk\n",
    "ORDER BY 1\n",
    "LIMIT 1)\n",
    "\n",
    "UNION  - ОСТАВЛЯЕТ ТОЛЬКО УНИКАЛЬНЫЕ ЗНАЧЕНИЯ. UNION ALL соединяет все"
   ]
  },
  {
   "cell_type": "markdown",
   "metadata": {},
   "source": [
    "                         ИЗМЕНЕНИЕ ТИПА ДАННЫХ В СТОЛБЦЕ"
   ]
  },
  {
   "cell_type": "markdown",
   "metadata": {},
   "source": [
    "SELECT \n",
    "         c.city_id::text /*выбираем столбец city_id, переводим city_id из числового в текстовый формат*/\n",
    "FROM\n",
    "         sql.city c /*из схемы sql  и таблицы city, задаём таблице алиас с*/\n",
    "\n",
    "UNION ALL /*оператор присоединения*/\n",
    "\n",
    "SELECT \n",
    "         cc.city_name /*выбираем столбец city_name*/\n",
    "FROM\n",
    "         sql.city cc /*из схемы sql и таблицы city, задаём таблице алиас сс*/"
   ]
  },
  {
   "cell_type": "markdown",
   "metadata": {},
   "source": [
    "              ДОБАВЛЯЕМ обобщённые данные"
   ]
  },
  {
   "cell_type": "code",
   "execution_count": null,
   "metadata": {},
   "outputs": [],
   "source": [
    "SELECT\n",
    "         c.city_name,\n",
    "         c.population /*выбираем столбцы city_name, population*/\n",
    "FROM\n",
    "         sql.city c /*из схемы sql и таблицы city, задаём таблице алиас с*/\n",
    "\n",
    "UNION ALL /*оператор присоединения*/\n",
    "\n",
    "SELECT\n",
    "         'total',\n",
    "         SUM(c.population) /*сами задаём объект ‘total’, суммируем все значения столбца population*/\n",
    "FROM\n",
    "         sql.city c /*из схемы sql и таблицы city, задаём таблице алиас с*/\n",
    "ORDER BY 2 DESC /*сортируем по второму столбцу в убывающем порядке (чтобы итоговая сумма была в начале)*/"
   ]
  },
  {
   "cell_type": "markdown",
   "metadata": {},
   "source": [
    "                                         ЗАМЕНЯ ПО ЗНАЧЕНИЙ ПО УСЛОВИЯ"
   ]
  },
  {
   "cell_type": "markdown",
   "metadata": {},
   "source": [
    "SELECT\n",
    "         d.first_name,\n",
    "         d.last_name,\n",
    "         'телефон заполнен' phone_info /*выбираем столбцы first_name, last_name, сами выводим объект ‘телефон заполнен’*/\n",
    "FROM\n",
    "         sql.driver d /*из схемы sql и таблицы driver, задаём алиас d*/\n",
    "WHERE d.phone IS NOT NULL /*условие, что телефон заполнен*/\n",
    "\n",
    "UNION /*оператор присоединения (уникальные значения)*/\n",
    "\n",
    "SELECT\n",
    "         d.first_name,\n",
    "         d.last_name,\n",
    "         'телефон не заполнен' phone_info /*выбираем столбцы first_name, last_name, сами выводим объект ‘телефон не заполнен’*/\n",
    "FROM\n",
    "         sql.driver d /*из схемы sql и таблицы driver, задаём алиас d*/\n",
    "WHERE d.phone IS NULL /*условие, что телефон не заполнен*/"
   ]
  },
  {
   "cell_type": "markdown",
   "metadata": {},
   "source": [
    "                             Доабвляем строки сами"
   ]
  },
  {
   "cell_type": "markdown",
   "metadata": {},
   "source": [
    "\n",
    "SELECT \n",
    "         '+' result\n",
    "\n",
    "UNION \n",
    "\n",
    "SELECT \n",
    "         '-'\n",
    "\n",
    "UNION \n",
    "\n",
    "SELECT\n",
    "        '='\n",
    "UNION \n",
    "\n",
    "SELECT\n",
    "        '/'\n",
    "\n",
    "\n",
    "\n",
    "\n",
    "\n"
   ]
  },
  {
   "cell_type": "markdown",
   "metadata": {},
   "source": [
    "                                   ИСКЛЮЧЕНИЯ EXCEPT ( ОБРЕЗАЕМ ОДНУ ТАБЛИЦУ ДРУГОЙ)"
   ]
  },
  {
   "cell_type": "code",
   "execution_count": null,
   "metadata": {},
   "outputs": [],
   "source": [
    "SELECT\n",
    "         c.city_name /*выбираем столбец city_name*/\n",
    "FROM\n",
    "         sql.shipment s /*из схемы sql и таблицы shipment, задаём таблице алиас s*/\n",
    "JOIN sql.city c ON s.city_id = c.city_id /*внутреннее присоединение из схемы sql таблицы city, задав ей алиас c, по ключам city_id*/\n",
    "\n",
    "EXCEPT /*оператор присоединения*/\n",
    "\n",
    "SELECT\n",
    "         cc.city_name  /*выбираем столбец city_name*/\n",
    "FROM\n",
    "         sql.driver d /*из схемы sql и таблицы driver, задаём таблице алиас d*/\n",
    "JOIN sql.city cc ON d.city_id=cc.city_id /*внутреннее присоединение из схемы sql таблицы city, задав ей алияс cc, по ключам city_id*/\n",
    "ORDER BY 1 /*сортировка по первому столбцу*/"
   ]
  },
  {
   "cell_type": "markdown",
   "metadata": {},
   "source": [
    "                                   ПЕРЕСЕКАЮЩИЕСЯ ЗНАЧЕНИЯ"
   ]
  },
  {
   "cell_type": "code",
   "execution_count": null,
   "metadata": {},
   "outputs": [],
   "source": [
    "SELECT \n",
    "         c.city_name object_name /*выбираем столбец city_name, задаём ему алиас object_name*/\n",
    "FROM \n",
    "         sql.city c /*из схемы sql и таблицы city, задаём таблице алиас с*/\n",
    "\n",
    "INTERSECT /*оператор присоединения*/\n",
    "\n",
    "SELECT \n",
    "         cc.state /*выбираем столбец state*/\n",
    "FROM \n",
    "         sql.city cc /*из схемы sql и таблицы city, задаём таблице алиас с*/\n",
    "ORDER BY 1"
   ]
  },
  {
   "cell_type": "markdown",
   "metadata": {},
   "source": [
    "                                        ВЫВОДИМ МСК ВРЕМЯ"
   ]
  },
  {
   "cell_type": "code",
   "execution_count": null,
   "metadata": {},
   "outputs": [],
   "source": [
    "select now() at time zone 'Europe/Moscow'"
   ]
  },
  {
   "cell_type": "markdown",
   "metadata": {},
   "source": [
    "                                  EXRTACT ВЫДЕЛЯЕМ НУЖНОЕ ЗНАЧЕНИЕ ИЗ ДАТЫ"
   ]
  },
  {
   "cell_type": "code",
   "execution_count": null,
   "metadata": {},
   "outputs": [],
   "source": [
    "DAY\n",
    "\n",
    "Для значений timestamp это день месяца (1-31), для значений interval — число дней.\n",
    "\n",
    "SELECT EXTRACT(DAY FROM TIMESTAMP '2001-02-16 20:38:40');\n",
    "Результат: 16\n",
    "\n",
    "SELECT EXTRACT(DAY FROM INTERVAL '40 days 1 minute');\n",
    "Результат: 40\n",
    "\n",
    "!\n",
    "HOUR\n",
    "\n",
    "Час (0-23).\n",
    "\n",
    "SELECT EXTRACT(HOUR FROM TIMESTAMP '2001-02-16 20:38:40');\n",
    "Результат: 20\n",
    "\n",
    "!\n",
    "MONTH\n",
    "\n",
    "Номер месяца, считая с января (1) до декабря (12).\n",
    "\n",
    "SELECT EXTRACT(MONTH FROM TIMESTAMP '2001-02-16 20:38:40');\n",
    "Результат: 2\n",
    "\n",
    "!\n",
    "YEAR\n",
    "\n",
    "Поле года. Учтите, что года 0 не было, и это следует иметь в виду, вычитая из годов нашей эры годы до нашей эры.\n",
    "\n",
    "SELECT EXTRACT(YEAR FROM TIMESTAMP '2001-02-16 20:38:40');\n",
    "Результат: 2001\n",
    "\n",
    "!\n",
    "ISOYEAR\n",
    "\n",
    "Год по недельному календарю ISO 8601, в который попадает дата (не применимо к интервалам).\n",
    "\n",
    "SELECT EXTRACT(ISOYEAR FROM DATE '2006-01-01');\n",
    "Результат: 2005\n",
    "\n",
    "SELECT EXTRACT(ISOYEAR FROM DATE '2006-01-02');\n",
    "Результат: 2006\n",
    "\n",
    "Год по недельному календарю ISO начинается с понедельника недели, в которой оказывается 4 января, так что в начале января или в конце декабря год по ISO может отличаться от года по григорианскому календарю. Подробнее об этом рассказывается в описании поля week.\n",
    "\n",
    "!\n",
    "WEEK\n",
    "\n",
    "Номер недели в году по недельному календарю ISO 8601. По определению, недели ISO 8601 начинаются с понедельника, а первая неделя года включает 4 января этого года. Другими словами, первый четверг года всегда оказывается в первой неделе этого года.\n",
    "\n",
    "В системе нумерации недель ISO первые числа января могут относиться к 52-й или 53-й неделе предыдущего года, а последние числа декабря — к первой неделе следующего года.\n",
    "\n",
    "Например, 2005-01-01 относится к 53-й неделе 2004 г., а 2006-01-01 — к 52-й неделе 2005 г., тогда как 2012-12-31 включается в первую неделю 2013 г.\n",
    "\n",
    "Поэтому для получения согласованных результатов рекомендуется использовать поле isoyear в паре с week.\n",
    "\n",
    "SELECT EXTRACT(WEEK FROM TIMESTAMP '2001-02-16 20:38:40');\n",
    "Результат: 7\n",
    "\n",
    "!\n",
    "CENTURY\n",
    "\n",
    "SELECT EXTRACT(CENTURY FROM TIMESTAMP '2000-12-16 12:21:13');\n",
    "Результат: 20\n",
    "\n",
    "SELECT EXTRACT(CENTURY FROM TIMESTAMP '2001-02-16 20:38:40');\n",
    "Результат: 21\n",
    "\n",
    "Первый век начался 0001-01-01 00:00:00, хотя люди в то время так и не считали. Это определение распространяется на все страны с григорианским календарём.\n",
    "\n",
    "Века с номером 0 не было; считается, что 1 наступил после -1.\n",
    "\n",
    "Если такое положение вещей вас не устраивает, направляйте жалобы по адресу: Ватикан, Собор Святого Петра, Папе Римскому, лично в руки :)\n",
    "\n",
    "!\n",
    "DECADE\n",
    "\n",
    "Десятилетие.\n",
    "\n",
    "SELECT EXTRACT(DECADE FROM TIMESTAMP '2001-02-16 20:38:40');\n",
    "Результат: 200\n",
    "\n",
    "!\n",
    "EPOCH\n",
    "\n",
    "Для значений timestamp with time zone это число секунд с 1970-01-01 00:00:00 UTC (может быть отрицательным); для значений date и timestamp это число секунд с 1970-01-01 00:00:00 по местному времени, а для interval — общая длительность интервала в секундах.\n",
    "\n",
    "SELECT EXTRACT(EPOCH FROM TIMESTAMP WITH TIME ZONE\n",
    "'2001-02-16 20:38:40.12-08');\n",
    "Результат: 982384720.12\n",
    "\n",
    "SELECT EXTRACT(EPOCH FROM INTERVAL '5 days 3 hours');\n",
    "Результат: 442800\n",
    "\n",
    "Преобразовать время эпохи обратно, в значение дата/время, с помощью to_timestamp можно так:\n",
    "\n",
    "SELECT to_timestamp(982384720.12);\n",
    "Результат: 2001-02-17 04:38:40.12+00\n",
    "\n",
    "!\n",
    "DOW\n",
    "\n",
    "День недели, считая с воскресенья (0) до субботы (6).\n",
    "\n",
    "SELECT EXTRACT(DOW FROM TIMESTAMP '2001-02-16 20:38:40');\n",
    "Результат: 5\n",
    "\n",
    "Заметьте, что в extract() дни недели нумеруются не так, как в функции to_char(..., 'D').\n",
    "\n",
    "!\n",
    "DOY\n",
    "\n",
    "День года (1-365/366).\n",
    "\n",
    "SELECT EXTRACT(DOY FROM TIMESTAMP '2001-02-16 20:38:40');\n",
    "Результат: 47\n",
    "\n",
    "!\n",
    "ISODOW\n",
    "\n",
    "День недели, считая с понедельника (1) до воскресенья (7).\n",
    "\n",
    "SELECT EXTRACT(ISODOW FROM TIMESTAMP '2001-02-18 20:38:40');\n",
    "Результат: 7\n",
    "\n",
    "Результат отличается от dow только для воскресенья. Такая нумерация соответствует ISO 8601."
   ]
  },
  {
   "cell_type": "markdown",
   "metadata": {},
   "source": [
    "                                         РАЗНОВИДНОСТИ ДАТЫ И ВРЕМЕНИ"
   ]
  },
  {
   "cell_type": "markdown",
   "metadata": {},
   "source": [
    "Смотри файл date.png"
   ]
  },
  {
   "cell_type": "markdown",
   "metadata": {},
   "source": [
    "                                  ВЫВОДИМ ВРЕМЯ С ТЕКСТОМ"
   ]
  },
  {
   "cell_type": "markdown",
   "metadata": {},
   "source": [
    "select to_char(now() at time zone 'Europe/Moscow','\"Точное время \"HH24 \"часов\" MI \"минут\" SS \"секунд\"') as msg"
   ]
  },
  {
   "cell_type": "markdown",
   "metadata": {},
   "source": [
    "                                    ОКРУГЛЯЕМ ДАТУ ПО НУЖНОМУ ЗНАЧЕНИЮ"
   ]
  },
  {
   "cell_type": "code",
   "execution_count": null,
   "metadata": {},
   "outputs": [],
   "source": [
    "Если мы хотим округлить текущее время-дату до минут, то можно вызвать\n",
    "\n",
    " select date_trunc('minute',now())"
   ]
  },
  {
   "cell_type": "markdown",
   "metadata": {},
   "source": [
    "                                     РАБОТА С ТЕКСТОМ"
   ]
  },
  {
   "cell_type": "code",
   "execution_count": null,
   "metadata": {},
   "outputs": [],
   "source": [
    "Конструкции с оператором соединения строк записываются следующим образом(конкатенация):\n",
    "строка1 || строка2 || ... || строкаN\n",
    "SELECT \n",
    "        'Ваш заказ доставит водитель '||d.first_name||' '||d.last_name||'. '||'Его контактный номер: '||coalesce(d.phone,'-') msg# coalesce(d.phone,'-') выводит если None значение '-'\n",
    "FROM shipping.driver d\n",
    "\n",
    "#верхний нижний регистры\n",
    "select upper('Abc') s1 ,lower('xYz') s2\n",
    "\n",
    "# замена символов\n",
    "select replace('малако','а','о')# молоко\n",
    "select replace('Hello, world!',', world','') # удаляем \", world\"\n",
    "\n",
    "# обрезаем строки\n",
    "select left('0123456789', - 2), right('0123456789', - 2)# Результат: 01234567 и 23456789\n",
    "select left('0123456789', 3)# 012\n",
    "\n",
    "#выводим текст через format:\n",
    "select format('Hello, %s!', d.first_name) from shipping.driver d # %s - символ подставки перечисленных значений после запятой по порядку\n",
    "\n",
    "#длинна строки\n",
    "length(key_skills)"
   ]
  },
  {
   "cell_type": "code",
   "execution_count": null,
   "metadata": {},
   "outputs": [],
   "source": []
  }
 ],
 "metadata": {
  "kernelspec": {
   "display_name": "Python 3.10.5 64-bit",
   "language": "python",
   "name": "python3"
  },
  "language_info": {
   "name": "python",
   "version": "3.10.5"
  },
  "orig_nbformat": 4,
  "vscode": {
   "interpreter": {
    "hash": "fb4569285eef3a3450cb62085a5b1e0da4bce0af555edc33dcf29baf3acc1368"
   }
  }
 },
 "nbformat": 4,
 "nbformat_minor": 2
}
