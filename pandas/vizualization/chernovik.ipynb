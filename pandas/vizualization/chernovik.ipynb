{
 "cells": [
  {
   "cell_type": "code",
   "execution_count": 1,
   "metadata": {},
   "outputs": [
    {
     "name": "stdout",
     "output_type": "stream",
     "text": [
      "0.12.1\n"
     ]
    },
    {
     "ename": "ModuleNotFoundError",
     "evalue": "No module named 'plotly'",
     "output_type": "error",
     "traceback": [
      "\u001b[1;31m---------------------------------------------------------------------------\u001b[0m",
      "\u001b[1;31mModuleNotFoundError\u001b[0m                       Traceback (most recent call last)",
      "\u001b[1;32md:\\datascience\\IDE\\pandas\\vizualization\\chernovik.ipynb Ячейка 1\u001b[0m in \u001b[0;36m<cell line: 75>\u001b[1;34m()\u001b[0m\n\u001b[0;32m     <a href='vscode-notebook-cell:/d%3A/datascience/IDE/pandas/vizualization/chernovik.ipynb#W0sZmlsZQ%3D%3D?line=72'>73</a>\u001b[0m croped_covid_df[\u001b[39m'\u001b[39m\u001b[39mdaily_confirmed_per_hundred\u001b[39m\u001b[39m'\u001b[39m] \u001b[39m=\u001b[39m croped_covid_df[\u001b[39m'\u001b[39m\u001b[39mdaily_confirmed\u001b[39m\u001b[39m'\u001b[39m] \u001b[39m/\u001b[39m croped_covid_df[\u001b[39m'\u001b[39m\u001b[39mpopulation\u001b[39m\u001b[39m'\u001b[39m] \u001b[39m*\u001b[39m \u001b[39m100\u001b[39m\n\u001b[0;32m     <a href='vscode-notebook-cell:/d%3A/datascience/IDE/pandas/vizualization/chernovik.ipynb#W0sZmlsZQ%3D%3D?line=73'>74</a>\u001b[0m croped_covid_df[\u001b[39m\"\u001b[39m\u001b[39mconfirmed_per_hundred\u001b[39m\u001b[39m\"\u001b[39m]\u001b[39m=\u001b[39mcroped_covid_df[\u001b[39m\"\u001b[39m\u001b[39mconfirmed\u001b[39m\u001b[39m\"\u001b[39m]\u001b[39m/\u001b[39mcroped_covid_df[\u001b[39m\"\u001b[39m\u001b[39mpopulation\u001b[39m\u001b[39m\"\u001b[39m]\u001b[39m*\u001b[39m\u001b[39m100\u001b[39m\n\u001b[1;32m---> <a href='vscode-notebook-cell:/d%3A/datascience/IDE/pandas/vizualization/chernovik.ipynb#W0sZmlsZQ%3D%3D?line=74'>75</a>\u001b[0m \u001b[39mimport\u001b[39;00m \u001b[39mplotly\u001b[39;00m\n\u001b[0;32m     <a href='vscode-notebook-cell:/d%3A/datascience/IDE/pandas/vizualization/chernovik.ipynb#W0sZmlsZQ%3D%3D?line=75'>76</a>\u001b[0m \u001b[39mimport\u001b[39;00m \u001b[39mplotly\u001b[39;00m\u001b[39m.\u001b[39;00m\u001b[39mexpress\u001b[39;00m \u001b[39mas\u001b[39;00m \u001b[39mpx\u001b[39;00m\n\u001b[0;32m     <a href='vscode-notebook-cell:/d%3A/datascience/IDE/pandas/vizualization/chernovik.ipynb#W0sZmlsZQ%3D%3D?line=76'>77</a>\u001b[0m \u001b[39mprint\u001b[39m(plotly\u001b[39m.\u001b[39m__version__)\n",
      "\u001b[1;31mModuleNotFoundError\u001b[0m: No module named 'plotly'"
     ]
    }
   ],
   "source": [
    "import pandas as pd\n",
    "import matplotlib.pyplot as plt\n",
    "import seaborn as sns\n",
    " \n",
    " \n",
    "import plotly\n",
    "import plotly.express as px\n",
    "print(plotly.__version__)\n",
    "%matplotlib inline\n",
    "plt.style.use('default')\n",
    "covid_data = pd.read_csv(\"covid_data.csv\",sep=\",\")\n",
    "vaccinations_data = pd.read_csv(\"country_vaccinations.csv\",sep=\",\")\n",
    "vaccinations_data = vaccinations_data[\n",
    "    ['country', 'date', 'total_vaccinations', \n",
    "     'people_vaccinated', 'people_vaccinated_per_hundred',\n",
    "     'people_fully_vaccinated', 'people_fully_vaccinated_per_hundred',\n",
    "     'daily_vaccinations', 'vaccines']\n",
    "]\n",
    "covid_data = covid_data.groupby(\n",
    "    ['date', 'country'], \n",
    "    as_index=False\n",
    ")[['confirmed', 'deaths', 'recovered']].sum()\n",
    "covid_data['date'] = pd.to_datetime(covid_data['date'])\n",
    "covid_data['active'] = covid_data['confirmed'] - covid_data['deaths'] - covid_data['recovered']\n",
    "covid_data = covid_data.sort_values(by=['country', 'date'])\n",
    "covid_data['daily_confirmed'] = covid_data.groupby('country')['confirmed'].diff()\n",
    "covid_data['daily_deaths'] = covid_data.groupby('country')['deaths'].diff()\n",
    "covid_data['daily_recovered'] = covid_data.groupby('country')['recovered'].diff()\n",
    "vaccinations_data['date'] = pd.to_datetime(vaccinations_data['date'])\n",
    "vaccinations_data[\"date\"].sort_values()\n",
    "covid_df = covid_data.merge(vaccinations_data, on=[\"date\",\"country\"], how =\"left\")\n",
    "covid_df[\"death_rate\"] = covid_df[\"deaths\"]/covid_df[\"confirmed\"]*100\n",
    "covid_df[\"recover_rate\"] = covid_df[\"recovered\"]/covid_df[\"confirmed\"]*100\n",
    "grouped_cases = covid_df.groupby('date')['daily_confirmed'].sum()\n",
    "grouped_country = covid_df.groupby(['country'])['deaths'].last()\n",
    "grouped_country = grouped_country.nlargest(10)\n",
    "us_data = covid_df[covid_df['country'] == 'United States']\n",
    "\n",
    "vaccine_combinations = covid_df['vaccines'].value_counts()[:10]\n",
    "\n",
    "#избавляемся от пропусков в столбце с вакцинами\n",
    "combination_not_nan = covid_df.dropna(subset=['vaccines'])\n",
    "#группируем по странам и выбираем последнюю комбинацию вакцин в стране\n",
    "combination_last = combination_not_nan.groupby(['country'])['vaccines'].last() \n",
    "#заменяем пробелы в строках и делим комбинации на отдельные вакцины по запятой\n",
    "combination_last = combination_last.apply(lambda x: x.replace(' ', '').split(',')) \n",
    "#создаём пустой словарь, ключами которого будут вакцины, а значениями — количество стран\n",
    "vaccines_dict = {} \n",
    "#создаём цикл по элементам Series combination_last\n",
    "for vaccines_list in combination_last:\n",
    "    #создаём цикл по элементам списка с вакцинами\n",
    "    for vaccine in vaccines_list:\n",
    "        #проверяем условие, что текущей вакцины ещё нет среди ключей словаря\n",
    "        if vaccine not in vaccines_dict:#если условие выполняется\n",
    "            vaccines_dict[vaccine] = 1 #заносим вакцину в словарь со значением 1\n",
    "        else: #в противном случае\n",
    "            vaccines_dict[vaccine] += 1 #увеличивает количество\n",
    "#преобразуем словарь в Series\n",
    "vaccines = pd.Series(vaccines_dict).sort_values(ascending=False)\n",
    "#выделяем ТОП-7 вакцин и добавляем категорию 'other'\n",
    "vaccines['other'] = vaccines[7:].sum()\n",
    "vaccines = vaccines.sort_values(ascending=False)[:8]\n",
    "countries = ['Russia', 'Australia', 'Germany', 'Canada', 'United Kingdom']\n",
    "croped_covid_df = covid_df[covid_df['country'].isin(countries)]\n",
    "\n",
    "populations = pd.DataFrame([\n",
    "    ['Canada', 37664517],\n",
    "    ['Germany', 83721496],\n",
    "    ['Russia', 145975300],\n",
    "    ['Australia', 25726900],\n",
    "    ['United Kingdom', 67802690]\n",
    "    ],\n",
    "    columns=['country', 'population']\n",
    ")\n",
    "croped_covid_df = croped_covid_df.merge(populations, on=['country'])\n",
    "croped_covid_df['daily_confirmed_per_hundred'] = croped_covid_df['daily_confirmed'] / croped_covid_df['population'] * 100\n",
    "croped_covid_df[\"confirmed_per_hundred\"]=croped_covid_df[\"confirmed\"]/croped_covid_df[\"population\"]*100\n"
   ]
  },
  {
   "cell_type": "code",
   "execution_count": 11,
   "metadata": {},
   "outputs": [
    {
     "data": {
      "text/plain": [
       "0    Johnson&Johnson, Moderna, Oxford/AstraZeneca, ...\n",
       "Name: vaccines, dtype: object"
      ]
     },
     "execution_count": 11,
     "metadata": {},
     "output_type": "execute_result"
    }
   ],
   "source": [
    "covid_df['vaccines'].mode()"
   ]
  },
  {
   "cell_type": "code",
   "execution_count": 7,
   "metadata": {},
   "outputs": [
    {
     "data": {
      "text/plain": [
       "0        NaN\n",
       "1        NaN\n",
       "2        NaN\n",
       "3        NaN\n",
       "4        NaN\n",
       "        ... \n",
       "86780    NaN\n",
       "86781    NaN\n",
       "86782    NaN\n",
       "86783    NaN\n",
       "86784    NaN\n",
       "Name: vaccines, Length: 86785, dtype: object"
      ]
     },
     "execution_count": 7,
     "metadata": {},
     "output_type": "execute_result"
    }
   ],
   "source": []
  },
  {
   "cell_type": "code",
   "execution_count": null,
   "metadata": {},
   "outputs": [],
   "source": []
  }
 ],
 "metadata": {
  "kernelspec": {
   "display_name": "Python 3.10.5 64-bit",
   "language": "python",
   "name": "python3"
  },
  "language_info": {
   "codemirror_mode": {
    "name": "ipython",
    "version": 3
   },
   "file_extension": ".py",
   "mimetype": "text/x-python",
   "name": "python",
   "nbconvert_exporter": "python",
   "pygments_lexer": "ipython3",
   "version": "3.10.5"
  },
  "orig_nbformat": 4,
  "vscode": {
   "interpreter": {
    "hash": "fb4569285eef3a3450cb62085a5b1e0da4bce0af555edc33dcf29baf3acc1368"
   }
  }
 },
 "nbformat": 4,
 "nbformat_minor": 2
}
