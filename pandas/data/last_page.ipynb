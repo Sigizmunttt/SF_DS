{
 "cells": [
  {
   "cell_type": "code",
   "execution_count": 75,
   "metadata": {},
   "outputs": [
    {
     "ename": "AttributeError",
     "evalue": "'Series' object has no attribute 'weekday'",
     "output_type": "error",
     "traceback": [
      "\u001b[1;31m---------------------------------------------------------------------------\u001b[0m",
      "\u001b[1;31mAttributeError\u001b[0m                            Traceback (most recent call last)",
      "\u001b[1;32md:\\datascience\\IDE\\pandas\\data\\last_page.ipynb Ячейка 1\u001b[0m in \u001b[0;36m<cell line: 29>\u001b[1;34m()\u001b[0m\n\u001b[0;32m     <a href='vscode-notebook-cell:/d%3A/datascience/IDE/pandas/data/last_page.ipynb#W0sZmlsZQ%3D%3D?line=26'>27</a>\u001b[0m bikes[\u001b[39m\"\u001b[39m\u001b[39mtime_of_day\u001b[39m\u001b[39m\"\u001b[39m]\u001b[39m=\u001b[39mbikes[\u001b[39m\"\u001b[39m\u001b[39mtime_of_day\u001b[39m\u001b[39m\"\u001b[39m]\u001b[39m.\u001b[39mapply(time)\n\u001b[0;32m     <a href='vscode-notebook-cell:/d%3A/datascience/IDE/pandas/data/last_page.ipynb#W0sZmlsZQ%3D%3D?line=27'>28</a>\u001b[0m bikes[\u001b[39m\"\u001b[39m\u001b[39mtime_of_day\u001b[39m\u001b[39m\"\u001b[39m]\u001b[39m.\u001b[39mvalue_counts()\n\u001b[1;32m---> <a href='vscode-notebook-cell:/d%3A/datascience/IDE/pandas/data/last_page.ipynb#W0sZmlsZQ%3D%3D?line=28'>29</a>\u001b[0m bikes[\u001b[39m\"\u001b[39;49m\u001b[39mstarttime\u001b[39;49m\u001b[39m\"\u001b[39;49m]\u001b[39m.\u001b[39;49mweekday\n",
      "File \u001b[1;32mc:\\Users\\user\\AppData\\Local\\Programs\\Python\\Python310\\lib\\site-packages\\pandas\\core\\generic.py:5907\u001b[0m, in \u001b[0;36mNDFrame.__getattr__\u001b[1;34m(self, name)\u001b[0m\n\u001b[0;32m   5900\u001b[0m \u001b[39mif\u001b[39;00m (\n\u001b[0;32m   5901\u001b[0m     name \u001b[39mnot\u001b[39;00m \u001b[39min\u001b[39;00m \u001b[39mself\u001b[39m\u001b[39m.\u001b[39m_internal_names_set\n\u001b[0;32m   5902\u001b[0m     \u001b[39mand\u001b[39;00m name \u001b[39mnot\u001b[39;00m \u001b[39min\u001b[39;00m \u001b[39mself\u001b[39m\u001b[39m.\u001b[39m_metadata\n\u001b[0;32m   5903\u001b[0m     \u001b[39mand\u001b[39;00m name \u001b[39mnot\u001b[39;00m \u001b[39min\u001b[39;00m \u001b[39mself\u001b[39m\u001b[39m.\u001b[39m_accessors\n\u001b[0;32m   5904\u001b[0m     \u001b[39mand\u001b[39;00m \u001b[39mself\u001b[39m\u001b[39m.\u001b[39m_info_axis\u001b[39m.\u001b[39m_can_hold_identifiers_and_holds_name(name)\n\u001b[0;32m   5905\u001b[0m ):\n\u001b[0;32m   5906\u001b[0m     \u001b[39mreturn\u001b[39;00m \u001b[39mself\u001b[39m[name]\n\u001b[1;32m-> 5907\u001b[0m \u001b[39mreturn\u001b[39;00m \u001b[39mobject\u001b[39;49m\u001b[39m.\u001b[39;49m\u001b[39m__getattribute__\u001b[39;49m(\u001b[39mself\u001b[39;49m, name)\n",
      "\u001b[1;31mAttributeError\u001b[0m: 'Series' object has no attribute 'weekday'"
     ]
    }
   ],
   "source": [
    "import pandas as pd\n",
    "bikes = pd.read_csv('citibike-tripdata.csv', sep=',')\n",
    "bikes[\"end station name\"].value_counts()\n",
    "bikes=bikes.drop('start station id',axis=1)\n",
    "bikes=bikes.drop('end station id',axis=1)\n",
    "bikes[\"age\"] = 2018 - bikes[\"birth year\"]\n",
    "bikes[\"starttime\"]=pd.to_datetime(bikes[\"starttime\"],dayfirst=True)\n",
    "bikes[\"stoptime\"]=pd.to_datetime(bikes[\"stoptime\"],dayfirst=True)\n",
    "bikes[\"trip duration\"] = bikes[\"stoptime\"]-bikes[\"starttime\"]\n",
    "bikes[\"weekday\"]=bikes[\"starttime\"].dt.weekday\n",
    "def holiday(a):\n",
    "    if a == 5 or a == 6:\n",
    "        return 1\n",
    "    else:\n",
    "        return 0\n",
    "bikes[\"weekday\"]=bikes[\"weekday\"].apply(holiday)\n",
    "bikes[\"time_of_day\"] = bikes[\"starttime\"].dt.hour\n",
    "def time(a):\n",
    "    if a in range(7):\n",
    "        return \"night\"\n",
    "    if a in range(7,13):\n",
    "        return \"morning\"\n",
    "    if a in range(13,19):\n",
    "        return \"day\"\n",
    "    if a in range(19,24):\n",
    "        return \"evening\"\n",
    "bikes[\"time_of_day\"]=bikes[\"time_of_day\"].apply(time)\n",
    "bikes[\"time_of_day\"].value_counts()\n",
    "bikes[\"starttime\"].weekday"
   ]
  },
  {
   "cell_type": "code",
   "execution_count": 11,
   "metadata": {},
   "outputs": [
    {
     "data": {
      "text/plain": [
       "Index(['starttime', 'stoptime', 'start station id', 'start station name',\n",
       "       'start station latitude', 'start station longitude', 'end station id',\n",
       "       'end station name', 'end station latitude', 'end station longitude',\n",
       "       'bikeid', 'usertype', 'birth year', 'gender'],\n",
       "      dtype='object')"
      ]
     },
     "execution_count": 11,
     "metadata": {},
     "output_type": "execute_result"
    }
   ],
   "source": [
    "bikes.columns"
   ]
  },
  {
   "cell_type": "code",
   "execution_count": null,
   "metadata": {},
   "outputs": [],
   "source": []
  }
 ],
 "metadata": {
  "kernelspec": {
   "display_name": "Python 3.10.5 64-bit",
   "language": "python",
   "name": "python3"
  },
  "language_info": {
   "codemirror_mode": {
    "name": "ipython",
    "version": 3
   },
   "file_extension": ".py",
   "mimetype": "text/x-python",
   "name": "python",
   "nbconvert_exporter": "python",
   "pygments_lexer": "ipython3",
   "version": "3.10.5"
  },
  "orig_nbformat": 4,
  "vscode": {
   "interpreter": {
    "hash": "fb4569285eef3a3450cb62085a5b1e0da4bce0af555edc33dcf29baf3acc1368"
   }
  }
 },
 "nbformat": 4,
 "nbformat_minor": 2
}
