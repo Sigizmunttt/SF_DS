{
 "cells": [
  {
   "cell_type": "markdown",
   "metadata": {},
   "source": [
    "                                            СОЗДАНИЕ БАЗЫ Series"
   ]
  },
  {
   "cell_type": "code",
   "execution_count": 17,
   "metadata": {},
   "outputs": [
    {
     "name": "stdout",
     "output_type": "stream",
     "text": [
      "None\n"
     ]
    }
   ],
   "source": [
    "import pandas as pd\n",
    "                                                     \n",
    "# 1) Через списки\n",
    "countries = pd.Series(\n",
    "    data = ['Англия', 'Канада', 'США', 'Россия', 'Украина', 'Беларусь', 'Казахстан'],\n",
    "    index = ['UK', 'CA', 'US', 'RU', 'UA', 'BY', 'KZ'],\n",
    "    name = 'countries'\n",
    ")\n",
    "display(countries)\n",
    "# 2) Через словари\n",
    "ountries = pd.Series({\n",
    "    'UK': 'Англия',\n",
    "    'CA': 'Канада',\n",
    "    'US' : 'США',\n",
    "    'RU': 'Россия',\n",
    "    'UA': 'Украина',\n",
    "    'BY': 'Беларусь',\n",
    "    'KZ': 'Казахстан'},\n",
    "    name = 'countries'\n",
    ")\n",
    "display(countries)"
   ]
  },
  {
   "cell_type": "markdown",
   "metadata": {},
   "source": [
    "                                           СОЗДАНИЕ БАЗЫ DATAFRAME"
   ]
  },
  {
   "cell_type": "code",
   "execution_count": null,
   "metadata": {},
   "outputs": [],
   "source": [
    "                                                \n",
    "# 1) Через списки\n",
    "countries_df = pd.DataFrame(\n",
    "    data = [\n",
    "        ['Англия', 56.29, 133396],\n",
    "        ['Канада', 38.05, 9984670],\n",
    "        ['США', 322.28, 9826630],\n",
    "        ['Россия', 146.24, 17125191],\n",
    "        ['Украина', 45.5, 603628],\n",
    "        ['Беларусь', 9.5, 207600],\n",
    "        ['Казахстан', 17.04, 2724902]\n",
    "    ],\n",
    "    columns= ['country', 'population', 'square'],\n",
    "    index = ['UK', 'CA', 'US', 'RU', 'UA', 'BY', 'KZ']\n",
    ")\n",
    "\n",
    "# 2) Через словари\n",
    "countries_df = pd.DataFrame({\n",
    "    'country': ['Англия', 'Канада', 'США', 'Россия', 'Украина', 'Беларусь', 'Казахстан'],\n",
    "    'population': [56.29, 38.05, 322.28, 146.24, 45.5, 9.5, 17.04],\n",
    "    'square': [133396, 9984670, 9826630, 17125191, 603628, 207600, 2724902]\n",
    "})\n",
    "#добавляем index\n",
    "countries_df.index = ['UK', 'CA', 'US', 'RU', 'UA', 'BY', 'KZ']"
   ]
  },
  {
   "cell_type": "markdown",
   "metadata": {},
   "source": [
    "                                           ЗАПИСЬ В CSV И ВЫГРУЗКА"
   ]
  },
  {
   "cell_type": "code",
   "execution_count": null,
   "metadata": {},
   "outputs": [],
   "source": [
    "countries_df = pd.DataFrame({\n",
    "    'country': ['Англия', 'Канада', 'США', 'Россия', 'Украина', 'Беларусь', 'Казахстан'],\n",
    "    'population': [56.29, 38.05, 322.28, 146.24, 45.5, 9.5, 17.04],\n",
    "    'square': [133396, 9984670, 9826630, 17125191, 603628, 207600, 2724902]\n",
    "})\n",
    "\n",
    "countries_df.to_csv('data/countries.csv', index=False, sep=';')\n",
    "############################\n",
    "countries_data = pd.read_csv('data/countries.csv', sep=';')\n",
    "display(countries_data)"
   ]
  },
  {
   "cell_type": "markdown",
   "metadata": {},
   "source": [
    "                                     ИССЛЕДОВАНИЕ DataFrame"
   ]
  },
  {
   "cell_type": "code",
   "execution_count": null,
   "metadata": {},
   "outputs": [],
   "source": [
    "#Просмотр строк с начала таблицы\n",
    "display(melb_data.head(8))\n",
    "#С конца\n",
    "display(melb_data.tail(2))\n",
    "#Размертность таблицы\n",
    "melb_data.shape\n",
    "#Замена типа данных столбца\n",
    "melb_data['Car'] = melb_data['Car'].astype('int64')\n",
    "#Просмотр описательных данных таблицы по столбцам для чисел(среднее, медианы, мин, макс, отклонение)\n",
    "melb_data.describe().loc[:, ['Distance', 'BuildingArea' , 'Price']]\n",
    "#Просмотр описательных данных таблицы по столбцам (кол-во непустых строк,уник. значения,самое частое значение,частота значения)\n",
    "melb_data.describe(include=['object'])\n",
    "#ПОЛУЧЕНИЕ ЧАСТОТЫ УНИКАЛЬНЫХ ЗНАЧЕНИЙ В СТОЛБЦЕ\n",
    "# Для того чтобы определить, сколько раз в столбце повторяется каждый из вариантов значений \n",
    "# (т.е. найти частоту для каждого уникального знания), используется метод value_counts()\n",
    "melb_data['Regionname'].value_counts(normalize=True) # normalize - отоюражание в относительной частоте от общего\n"
   ]
  },
  {
   "cell_type": "markdown",
   "metadata": {},
   "source": [
    "                                               МЕТОДЫ"
   ]
  },
  {
   "cell_type": "code",
   "execution_count": null,
   "metadata": {},
   "outputs": [],
   "source": [
    "#МЕТОД\tСТАТИСТИЧЕСКИЙ ПАРАМЕТР\n",
    "#year_release.isnull().sum() сумма пропусков Nan во всей таблице\n",
    "#.count()\tКоличество непустых значений\n",
    "#.mean()\tСреднее значение\n",
    "#.min()\tМинимальное значение\n",
    "#.max()\tМаксимальное значение\n",
    "#.deviance()\tДисперсия\n",
    "#.std()\tСтандартное отклонение\n",
    "#.sum()\tСумма\n",
    "#.quantile(x)\tКвантиль уровня x\n",
    "#.nunique()\tЧисло уникальных значений\n",
    "#Отдельный интерес представляет статический показатель моды — \n",
    "#самого распространённого значения в столбце. Он вычисляется с помощью метода mode(). print(melb_data['Rooms'].mode())"
   ]
  },
  {
   "cell_type": "markdown",
   "metadata": {},
   "source": [
    "                                         ФИЛЬТРАЦИЯ И ПОДСЧЕТ ЗНАЧЕНИЙ"
   ]
  },
  {
   "cell_type": "code",
   "execution_count": null,
   "metadata": {},
   "outputs": [],
   "source": [
    "melb_data[(melb_data['Rooms'] == 3) & (melb_data['Price'] < 300000)].shape[0]\n",
    "# 3\n",
    "датабаза[условие][требуемая колонка вывода].методы\n",
    "melb_df[\"Suburb\"].value_counts().nlargest(119)   # Подсчет значений с выводом 119 первых"
   ]
  },
  {
   "cell_type": "markdown",
   "metadata": {},
   "source": [
    "                                       УДАЛЕНИЕ"
   ]
  },
  {
   "cell_type": "code",
   "execution_count": null,
   "metadata": {},
   "outputs": [],
   "source": [
    "melb_df = melb_df.drop('YearBuilt', axis=1) # axis=1 - столбец, 0 - строка"
   ]
  },
  {
   "cell_type": "markdown",
   "metadata": {},
   "source": [
    "                                             ВРЕМЯ"
   ]
  },
  {
   "cell_type": "code",
   "execution_count": null,
   "metadata": {},
   "outputs": [],
   "source": [
    "#преобразуем дату и время в формат Datetime\n",
    "melb_df['Date'] = pd.to_datetime(melb_df['Date'], dayfirst=True)\n",
    "#атрибуты Datetime через аксессор dt\n",
    "#date — дата;\n",
    "#year, month, day — год, месяц, день;\n",
    "#time — время;\n",
    "#hour, minute, second — час, минута, секунда;\n",
    "#dayofweek — номер дня недели, от 0 до 6, где 0 — понедельник, 6 — воскресенье;\n",
    "#day_name — название дня недели;\n",
    "#dayofyear — порядковый день года;\n",
    "#quarter — квартал (интервал в три месяца).\n",
    "#пример:\n",
    "melb_df['MonthSale'] = melb_df['Date'].dt.month\n",
    "melb_df['MonthSale'].value_counts(normalize=True)#normalize=True -  вывод в долях\n",
    "#работа с интервалами\n",
    "melb_df['AgeBuilding'] = melb_df['Date'].dt.year - melb_df['YearBuilt']\n",
    "#если дата состоит только из года и надо преобразовать в datetime формат\n",
    "data['year'] = pd.to_datetime(data['year'], errors = 'coerce')\n"
   ]
  },
  {
   "cell_type": "markdown",
   "metadata": {},
   "source": [
    "                                  ФУНКЦИЯ ДЛЯ АРГУМЕНТА СТОЛБЦА"
   ]
  },
  {
   "cell_type": "code",
   "execution_count": null,
   "metadata": {},
   "outputs": [],
   "source": [
    "street_types = melb_df['Address'].apply(FUNC)\n",
    "street_types.apply(lambda x: x if x in popular_stypes else 'other')\n",
    "# вывод наибольших значений из Series .nlargest(n)\n",
    "# можно сразу извлекать индексы  .nlargest(n).index "
   ]
  },
  {
   "cell_type": "markdown",
   "metadata": {},
   "source": [
    "                              ПРЕОБРАЗОВАНИЕ СТОЛБЦА В ТИП CATEGORY И РАБОТА С НИМ"
   ]
  },
  {
   "cell_type": "markdown",
   "metadata": {},
   "source": [
    "melb_df['Suburb'] = melb_df['Suburb'].astype('category')\n",
    "У типа данных category есть свой специальный аксесcор cat, который позволяет получать информацию о своих\n",
    "значениях и преобразовывать их. Например, с помощью атрибута этого аксессора categories мы можем получить список\n",
    "уникальных категорий в столбце Regionname:\n",
    "\n",
    "print(melb_df['Regionname'].cat.categories)\n",
    "\n",
    "А теперь посмотрим, каким образом столбец кодируется в виде чисел в памяти компьютера. Для этого можно воспользоваться атрибутом codes:\n",
    "\n",
    "display(melb_df['Regionname'].cat.codes)"
   ]
  },
  {
   "cell_type": "markdown",
   "metadata": {},
   "source": [
    "                                               СОРТИРОВКА"
   ]
  },
  {
   "cell_type": "code",
   "execution_count": null,
   "metadata": {},
   "outputs": [],
   "source": [
    "melb_df[mask1 & mask2 & mask3].sort_values(\n",
    "    by=['Date', 'AreaRatio'],\n",
    "    ascending=[True, False],\n",
    "    ignore_index=True\n",
    ").loc[:, ['Date', 'AreaRatio']]#ascending = False - по убыванию, ignore_index=True - обновляем индексы"
   ]
  },
  {
   "cell_type": "markdown",
   "metadata": {},
   "source": [
    "                                  ГРУППИРОВКА ПО ПРИЗНАКАМ"
   ]
  },
  {
   "cell_type": "code",
   "execution_count": null,
   "metadata": {},
   "outputs": [],
   "source": [
    "melb_df.groupby('Type')['Price'].mean() # с выводом столбца цены\n",
    "#Давайте построим таблицу для анализа продаж по месяцам. Для этого найдём количество продаж, а также среднее и максимальное значения цен объектов недвижимости (Price), \n",
    "#сгруппированных по номеру месяца продажи (MonthSale). Результат отсортируем по количеству продаж в порядке убывания:\n",
    "melb_df.groupby('MonthSale')['Price'].agg(\n",
    "    ['count', 'mean', 'max']\n",
    ").sort_values(by='count', ascending=False)\n",
    "\n",
    "melb_df.groupby('Regionname')['SellerG'].agg(   #вывод множеств из агентств недвижимости, которые работают в каждом из регионов через set:\n",
    "    \t\t['nunique', set]\n",
    ")\n",
    "melb_df[mask].groupby('SellerG')['Price'].sum().sort_values(ascending=True)#группировка с маской\n",
    "melb_df.groupby(['Rooms', 'Type'])['Price'].mean().unstack()# группируем с выводом по двум уровням индексов(иерархический способ) и переопределяем вложенный индекс методом unstack\n",
    "pivot = melb_df.pivot_table(  #то же самое, что выше, но проще и понятней\n",
    "    values='Landsize',\n",
    "    index='Regionname',\n",
    "    columns='Type',\n",
    "    aggfunc=['median', 'mean'],\n",
    "    fill_value=0 # заменяем Nan на 0\n",
    ")\n",
    "pivot.columns #Выводим столбцы с помощью атрибута columns, в результате мы получаем объект MultiIndex\n",
    "display(pivot['mean']['unit'])#вывод "
   ]
  },
  {
   "cell_type": "markdown",
   "metadata": {},
   "source": [
    "                                                          ОБЪЕДИНЕНИЕ ТАБЛИЦ"
   ]
  },
  {
   "cell_type": "code",
   "execution_count": null,
   "metadata": {},
   "outputs": [],
   "source": [
    "ratings_dates = pd.concat([ratings, dates], axis=1)\n",
    "ratings = ratings.drop_duplicates(ignore_index=True)# удаляем повторы, ignore_index=True - обновляем индексы\n",
    "#Чтобы совместить таблицы по ключевому столбцу с помощью метода join(), необходимо использовать ключевой столбец в «правой» таблице в качестве индекса. Это можно сделать с помощью метода set_index(). \n",
    "# Также необходимо указать название ключа в параметре on.\n",
    "joined = ratings_dates.join(\n",
    "    movies.set_index('movieId'),\n",
    "    on='movieId',\n",
    "    how='left'\n",
    ")\n",
    "##\n",
    "merged = ratings_dates.merge(\n",
    "    movies,\n",
    "    on='movieId',\n",
    "    how='left'\n",
    ")\n"
   ]
  },
  {
   "cell_type": "markdown",
   "metadata": {},
   "source": [
    "           Достать Мультииндекс"
   ]
  },
  {
   "cell_type": "code",
   "execution_count": null,
   "metadata": {},
   "outputs": [],
   "source": [
    "a.index.get_level_values(1)"
   ]
  },
  {
   "cell_type": "markdown",
   "metadata": {},
   "source": [
    "                                БЫСТРЫЙ ПОДСЧЕТ ЗНАЧЕНИЙ В СЛОВАРЕ"
   ]
  },
  {
   "cell_type": "code",
   "execution_count": null,
   "metadata": {},
   "outputs": [],
   "source": [
    "from collections import Counter\n",
    "Counter([i['key'] for i in data])"
   ]
  },
  {
   "cell_type": "markdown",
   "metadata": {},
   "source": [
    "                         ПОИСК ЧИСЕЛ В СТРОКЕ"
   ]
  },
  {
   "cell_type": "markdown",
   "metadata": {},
   "source": [
    "regex = '\\d{4}' # регулярное выражение для нахождения чисел\n",
    "data['year'] = data['title'].str.findall(regex).str.get(0)\n",
    "Разберём регулярное выражение \\d{4}:\n",
    "\n",
    "\\d — класс символов, обозначает соответствие цифрам в диапазоне цифр [0-9];\n",
    "{4} в шаблоне означает искать четыре вхождения символа, указанного ранее. В нашем случае это будут четырехзначные числа.\n",
    "Таким образом, \\d{4} означает поиск четырехзначных чисел в заданной строке."
   ]
  }
 ],
 "metadata": {
  "kernelspec": {
   "display_name": "Python 3.10.5 64-bit",
   "language": "python",
   "name": "python3"
  },
  "language_info": {
   "codemirror_mode": {
    "name": "ipython",
    "version": 3
   },
   "file_extension": ".py",
   "mimetype": "text/x-python",
   "name": "python",
   "nbconvert_exporter": "python",
   "pygments_lexer": "ipython3",
   "version": "3.10.5"
  },
  "orig_nbformat": 4,
  "vscode": {
   "interpreter": {
    "hash": "fb4569285eef3a3450cb62085a5b1e0da4bce0af555edc33dcf29baf3acc1368"
   }
  }
 },
 "nbformat": 4,
 "nbformat_minor": 2
}
