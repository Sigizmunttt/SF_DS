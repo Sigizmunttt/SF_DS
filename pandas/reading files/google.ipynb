{
 "cells": [
  {
   "cell_type": "code",
   "execution_count": 6,
   "metadata": {},
   "outputs": [
    {
     "name": "stdout",
     "output_type": "stream",
     "text": [
      "[15, 13, 11, 16, 18, 14, 25]\n",
      "0\n",
      "[13, 11, 16, 18, 14, 25]\n",
      "2\n",
      "[11, 16, 18, 14, 25]\n",
      "1\n",
      "[16, 18, 14, 25]\n",
      "0\n",
      "[18, 14, 25]\n",
      "0\n",
      "[14, 25]\n",
      "1\n",
      "[25]\n",
      "0\n",
      "[25]\n",
      "0\n"
     ]
    },
    {
     "data": {
      "text/plain": [
       "[1, 3, 2, 1, 1, 2, 1]"
      ]
     },
     "execution_count": 6,
     "metadata": {},
     "output_type": "execute_result"
    }
   ],
   "source": [
    "k=[12,15,13,11,16,18,14,25]\n",
    "yo=[]\n",
    "for h in range(len(k)):\n",
    "    for i,j in enumerate(k[1:]):\n",
    "        if k[0]<j:\n",
    "            yo.append(i+1)\n",
    "            k.pop(0)\n",
    "            break\n",
    "    print(k)\n",
    "    print(i)\n",
    "yo"
   ]
  },
  {
   "cell_type": "code",
   "execution_count": 7,
   "metadata": {},
   "outputs": [
    {
     "data": {
      "text/plain": [
       "7"
      ]
     },
     "execution_count": 7,
     "metadata": {},
     "output_type": "execute_result"
    }
   ],
   "source": []
  },
  {
   "cell_type": "code",
   "execution_count": null,
   "metadata": {},
   "outputs": [],
   "source": []
  }
 ],
 "metadata": {
  "kernelspec": {
   "display_name": "Python 3.10.5 64-bit",
   "language": "python",
   "name": "python3"
  },
  "language_info": {
   "codemirror_mode": {
    "name": "ipython",
    "version": 3
   },
   "file_extension": ".py",
   "mimetype": "text/x-python",
   "name": "python",
   "nbconvert_exporter": "python",
   "pygments_lexer": "ipython3",
   "version": "3.10.5"
  },
  "orig_nbformat": 4,
  "vscode": {
   "interpreter": {
    "hash": "fb4569285eef3a3450cb62085a5b1e0da4bce0af555edc33dcf29baf3acc1368"
   }
  }
 },
 "nbformat": 4,
 "nbformat_minor": 2
}
